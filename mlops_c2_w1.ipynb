{
  "nbformat": 4,
  "nbformat_minor": 0,
  "metadata": {
    "colab": {
      "name": "mlops_c2_w1.ipynb",
      "provenance": [],
      "collapsed_sections": [],
      "authorship_tag": "ABX9TyOemR6TGnek3EJZp2WhnUWH",
      "include_colab_link": true
    },
    "kernelspec": {
      "name": "python3",
      "display_name": "Python 3"
    },
    "language_info": {
      "name": "python"
    }
  },
  "cells": [
    {
      "cell_type": "markdown",
      "metadata": {
        "id": "view-in-github",
        "colab_type": "text"
      },
      "source": [
        "<a href=\"https://colab.research.google.com/github/Huksons1683/TFDV-workflow-and-implementation/blob/main/mlops_c2_w1.ipynb\" target=\"_parent\"><img src=\"https://colab.research.google.com/assets/colab-badge.svg\" alt=\"Open In Colab\"/></a>"
      ]
    },
    {
      "cell_type": "code",
      "metadata": {
        "colab": {
          "base_uri": "https://localhost:8080/"
        },
        "id": "jhY1qRZ-Wmw3",
        "outputId": "cead96c0-5542-4a93-ca98-45122a0c3b34"
      },
      "source": [
        "!pip install -U tfx"
      ],
      "execution_count": null,
      "outputs": [
        {
          "output_type": "stream",
          "name": "stdout",
          "text": [
            "Requirement already satisfied: tfx in /usr/local/lib/python3.7/dist-packages (1.2.0)\n",
            "Requirement already satisfied: absl-py<0.13,>=0.9 in /usr/local/lib/python3.7/dist-packages (from tfx) (0.12.0)\n",
            "Requirement already satisfied: tensorflow!=2.0.*,!=2.1.*,!=2.2.*,!=2.3.*,!=2.4.*,<2.6,>=1.15.2 in /usr/local/lib/python3.7/dist-packages (from tfx) (2.5.1)\n",
            "Requirement already satisfied: google-cloud-bigquery<2.21,>=1.28.0 in /usr/local/lib/python3.7/dist-packages (from tfx) (2.18.0)\n",
            "Requirement already satisfied: tfx-bsl<1.3.0,>=1.2.0 in /usr/local/lib/python3.7/dist-packages (from tfx) (1.2.0)\n",
            "Requirement already satisfied: attrs<21,>=19.3.0 in /usr/local/lib/python3.7/dist-packages (from tfx) (20.3.0)\n",
            "Requirement already satisfied: packaging<21,>=20 in /usr/local/lib/python3.7/dist-packages (from tfx) (20.9)\n",
            "Requirement already satisfied: google-api-python-client<2,>=1.8 in /usr/local/lib/python3.7/dist-packages (from tfx) (1.12.8)\n",
            "Requirement already satisfied: protobuf<4,>=3.13 in /usr/local/lib/python3.7/dist-packages (from tfx) (3.17.3)\n",
            "Requirement already satisfied: ml-metadata<1.3.0,>=1.2.0 in /usr/local/lib/python3.7/dist-packages (from tfx) (1.2.0)\n",
            "Requirement already satisfied: docker<5,>=4.1 in /usr/local/lib/python3.7/dist-packages (from tfx) (4.4.4)\n",
            "Requirement already satisfied: jinja2<3,>=2.7.3 in /usr/local/lib/python3.7/dist-packages (from tfx) (2.11.3)\n",
            "Requirement already satisfied: apache-beam[gcp]<3,>=2.31 in /usr/local/lib/python3.7/dist-packages (from tfx) (2.32.0)\n",
            "Requirement already satisfied: pyyaml<6,>=3.12 in /usr/local/lib/python3.7/dist-packages (from tfx) (3.13)\n",
            "Requirement already satisfied: grpcio<2,>=1.28.1 in /usr/local/lib/python3.7/dist-packages (from tfx) (1.34.1)\n",
            "Requirement already satisfied: numpy<1.20,>=1.16 in /usr/local/lib/python3.7/dist-packages (from tfx) (1.19.5)\n",
            "Requirement already satisfied: kubernetes<13,>=10.0.1 in /usr/local/lib/python3.7/dist-packages (from tfx) (12.0.1)\n",
            "Requirement already satisfied: tensorflow-hub<0.13,>=0.9.0 in /usr/local/lib/python3.7/dist-packages (from tfx) (0.12.0)\n",
            "Requirement already satisfied: tensorflow-serving-api!=2.0.*,!=2.1.*,!=2.2.*,!=2.3.*,!=2.4.*,<3,>=1.15 in /usr/local/lib/python3.7/dist-packages (from tfx) (2.5.2)\n",
            "Requirement already satisfied: keras-tuner<1.0.2,>=1 in /usr/local/lib/python3.7/dist-packages (from tfx) (1.0.1)\n",
            "Requirement already satisfied: portpicker<2,>=1.3.1 in /usr/local/lib/python3.7/dist-packages (from tfx) (1.3.9)\n",
            "Requirement already satisfied: click<8,>=7 in /usr/local/lib/python3.7/dist-packages (from tfx) (7.1.2)\n",
            "Requirement already satisfied: google-cloud-aiplatform<0.8,>=0.5.0 in /usr/local/lib/python3.7/dist-packages (from tfx) (0.7.1)\n",
            "Requirement already satisfied: google-apitools<1,>=0.5 in /usr/local/lib/python3.7/dist-packages (from tfx) (0.5.31)\n",
            "Requirement already satisfied: pyarrow<3,>=1 in /usr/local/lib/python3.7/dist-packages (from tfx) (2.0.0)\n",
            "Requirement already satisfied: tensorflow-data-validation<1.3.0,>=1.2.0 in /usr/local/lib/python3.7/dist-packages (from tfx) (1.2.0)\n",
            "Requirement already satisfied: tensorflow-transform<1.3.0,>=1.2.0 in /usr/local/lib/python3.7/dist-packages (from tfx) (1.2.0)\n",
            "Requirement already satisfied: ml-pipelines-sdk==1.2.0 in /usr/local/lib/python3.7/dist-packages (from tfx) (1.2.0)\n",
            "Requirement already satisfied: tensorflow-model-analysis<0.34,>=0.33 in /usr/local/lib/python3.7/dist-packages (from tfx) (0.33.0)\n",
            "Requirement already satisfied: six in /usr/local/lib/python3.7/dist-packages (from absl-py<0.13,>=0.9->tfx) (1.15.0)\n",
            "Requirement already satisfied: hdfs<3.0.0,>=2.1.0 in /usr/local/lib/python3.7/dist-packages (from apache-beam[gcp]<3,>=2.31->tfx) (2.6.0)\n",
            "Requirement already satisfied: python-dateutil<3,>=2.8.0 in /usr/local/lib/python3.7/dist-packages (from apache-beam[gcp]<3,>=2.31->tfx) (2.8.2)\n",
            "Requirement already satisfied: fastavro<2,>=0.21.4 in /usr/local/lib/python3.7/dist-packages (from apache-beam[gcp]<3,>=2.31->tfx) (1.4.4)\n",
            "Requirement already satisfied: pydot<2,>=1.2.0 in /usr/local/lib/python3.7/dist-packages (from apache-beam[gcp]<3,>=2.31->tfx) (1.3.0)\n",
            "Requirement already satisfied: pymongo<4.0.0,>=3.8.0 in /usr/local/lib/python3.7/dist-packages (from apache-beam[gcp]<3,>=2.31->tfx) (3.12.0)\n",
            "Requirement already satisfied: future<1.0.0,>=0.18.2 in /usr/local/lib/python3.7/dist-packages (from apache-beam[gcp]<3,>=2.31->tfx) (0.18.2)\n",
            "Requirement already satisfied: crcmod<2.0,>=1.7 in /usr/local/lib/python3.7/dist-packages (from apache-beam[gcp]<3,>=2.31->tfx) (1.7)\n",
            "Requirement already satisfied: avro-python3!=1.9.2,<1.10.0,>=1.8.1 in /usr/local/lib/python3.7/dist-packages (from apache-beam[gcp]<3,>=2.31->tfx) (1.9.2.1)\n",
            "Requirement already satisfied: typing-extensions<3.8.0,>=3.7.0 in /usr/local/lib/python3.7/dist-packages (from apache-beam[gcp]<3,>=2.31->tfx) (3.7.4.3)\n",
            "Requirement already satisfied: pytz>=2018.3 in /usr/local/lib/python3.7/dist-packages (from apache-beam[gcp]<3,>=2.31->tfx) (2018.9)\n",
            "Requirement already satisfied: dill<0.3.2,>=0.3.1.1 in /usr/local/lib/python3.7/dist-packages (from apache-beam[gcp]<3,>=2.31->tfx) (0.3.1.1)\n",
            "Requirement already satisfied: httplib2<0.20.0,>=0.8 in /usr/local/lib/python3.7/dist-packages (from apache-beam[gcp]<3,>=2.31->tfx) (0.17.4)\n",
            "Requirement already satisfied: oauth2client<5,>=2.0.1 in /usr/local/lib/python3.7/dist-packages (from apache-beam[gcp]<3,>=2.31->tfx) (4.1.3)\n",
            "Requirement already satisfied: orjson<4.0 in /usr/local/lib/python3.7/dist-packages (from apache-beam[gcp]<3,>=2.31->tfx) (3.6.3)\n",
            "Requirement already satisfied: requests<3.0.0,>=2.24.0 in /usr/local/lib/python3.7/dist-packages (from apache-beam[gcp]<3,>=2.31->tfx) (2.26.0)\n",
            "Requirement already satisfied: google-cloud-bigtable<2,>=0.31.1 in /usr/local/lib/python3.7/dist-packages (from apache-beam[gcp]<3,>=2.31->tfx) (1.7.0)\n",
            "Requirement already satisfied: google-cloud-spanner<2,>=1.13.0 in /usr/local/lib/python3.7/dist-packages (from apache-beam[gcp]<3,>=2.31->tfx) (1.19.1)\n",
            "Requirement already satisfied: google-cloud-datastore<2,>=1.8.0 in /usr/local/lib/python3.7/dist-packages (from apache-beam[gcp]<3,>=2.31->tfx) (1.8.0)\n",
            "Requirement already satisfied: google-cloud-core<2,>=0.28.1 in /usr/local/lib/python3.7/dist-packages (from apache-beam[gcp]<3,>=2.31->tfx) (1.7.2)\n",
            "Requirement already satisfied: google-cloud-vision<2,>=0.38.0 in /usr/local/lib/python3.7/dist-packages (from apache-beam[gcp]<3,>=2.31->tfx) (1.0.0)\n",
            "Requirement already satisfied: google-cloud-videointelligence<2,>=1.8.0 in /usr/local/lib/python3.7/dist-packages (from apache-beam[gcp]<3,>=2.31->tfx) (1.16.1)\n",
            "Requirement already satisfied: google-cloud-pubsub<2,>=0.39.0 in /usr/local/lib/python3.7/dist-packages (from apache-beam[gcp]<3,>=2.31->tfx) (1.7.0)\n",
            "Requirement already satisfied: google-cloud-language<2,>=1.3.0 in /usr/local/lib/python3.7/dist-packages (from apache-beam[gcp]<3,>=2.31->tfx) (1.3.0)\n",
            "Requirement already satisfied: google-cloud-dlp<2,>=0.12.0 in /usr/local/lib/python3.7/dist-packages (from apache-beam[gcp]<3,>=2.31->tfx) (1.0.0)\n",
            "Requirement already satisfied: cachetools<5,>=3.1.0 in /usr/local/lib/python3.7/dist-packages (from apache-beam[gcp]<3,>=2.31->tfx) (4.2.2)\n",
            "Requirement already satisfied: grpcio-gcp<1,>=0.2.2 in /usr/local/lib/python3.7/dist-packages (from apache-beam[gcp]<3,>=2.31->tfx) (0.2.2)\n",
            "Requirement already satisfied: google-auth<2,>=1.18.0 in /usr/local/lib/python3.7/dist-packages (from apache-beam[gcp]<3,>=2.31->tfx) (1.34.0)\n",
            "Requirement already satisfied: google-cloud-recommendations-ai<=0.2.0,>=0.1.0 in /usr/local/lib/python3.7/dist-packages (from apache-beam[gcp]<3,>=2.31->tfx) (0.2.0)\n",
            "Requirement already satisfied: websocket-client>=0.32.0 in /usr/local/lib/python3.7/dist-packages (from docker<5,>=4.1->tfx) (1.2.1)\n",
            "Requirement already satisfied: uritemplate<4dev,>=3.0.0 in /usr/local/lib/python3.7/dist-packages (from google-api-python-client<2,>=1.8->tfx) (3.0.1)\n",
            "Requirement already satisfied: google-api-core<2dev,>=1.21.0 in /usr/local/lib/python3.7/dist-packages (from google-api-python-client<2,>=1.8->tfx) (1.26.3)\n",
            "Requirement already satisfied: google-auth-httplib2>=0.0.3 in /usr/local/lib/python3.7/dist-packages (from google-api-python-client<2,>=1.8->tfx) (0.0.4)\n",
            "Requirement already satisfied: googleapis-common-protos<2.0dev,>=1.6.0 in /usr/local/lib/python3.7/dist-packages (from google-api-core<2dev,>=1.21.0->google-api-python-client<2,>=1.8->tfx) (1.53.0)\n",
            "Requirement already satisfied: setuptools>=40.3.0 in /usr/local/lib/python3.7/dist-packages (from google-api-core<2dev,>=1.21.0->google-api-python-client<2,>=1.8->tfx) (57.4.0)\n",
            "Requirement already satisfied: fasteners>=0.14 in /usr/local/lib/python3.7/dist-packages (from google-apitools<1,>=0.5->tfx) (0.16.3)\n",
            "Requirement already satisfied: pyasn1-modules>=0.2.1 in /usr/local/lib/python3.7/dist-packages (from google-auth<2,>=1.18.0->apache-beam[gcp]<3,>=2.31->tfx) (0.2.8)\n",
            "Requirement already satisfied: rsa<5,>=3.1.4 in /usr/local/lib/python3.7/dist-packages (from google-auth<2,>=1.18.0->apache-beam[gcp]<3,>=2.31->tfx) (4.7.2)\n",
            "Requirement already satisfied: google-cloud-storage<2.0.0dev,>=1.26.0 in /usr/local/lib/python3.7/dist-packages (from google-cloud-aiplatform<0.8,>=0.5.0->tfx) (1.41.1)\n",
            "Requirement already satisfied: proto-plus>=1.10.1 in /usr/local/lib/python3.7/dist-packages (from google-cloud-aiplatform<0.8,>=0.5.0->tfx) (1.19.0)\n",
            "Requirement already satisfied: google-resumable-media<2.0dev,>=0.6.0 in /usr/local/lib/python3.7/dist-packages (from google-cloud-bigquery<2.21,>=1.28.0->tfx) (1.3.3)\n",
            "Requirement already satisfied: grpc-google-iam-v1<0.13dev,>=0.12.3 in /usr/local/lib/python3.7/dist-packages (from google-cloud-bigtable<2,>=0.31.1->apache-beam[gcp]<3,>=2.31->tfx) (0.12.3)\n",
            "Requirement already satisfied: google-crc32c<2.0dev,>=1.0 in /usr/local/lib/python3.7/dist-packages (from google-resumable-media<2.0dev,>=0.6.0->google-cloud-bigquery<2.21,>=1.28.0->tfx) (1.1.4)\n",
            "Requirement already satisfied: docopt in /usr/local/lib/python3.7/dist-packages (from hdfs<3.0.0,>=2.1.0->apache-beam[gcp]<3,>=2.31->tfx) (0.6.2)\n",
            "Requirement already satisfied: MarkupSafe>=0.23 in /usr/local/lib/python3.7/dist-packages (from jinja2<3,>=2.7.3->tfx) (2.0.1)\n",
            "Requirement already satisfied: tabulate in /usr/local/lib/python3.7/dist-packages (from keras-tuner<1.0.2,>=1->tfx) (0.8.9)\n",
            "Requirement already satisfied: scipy in /usr/local/lib/python3.7/dist-packages (from keras-tuner<1.0.2,>=1->tfx) (1.4.1)\n",
            "Requirement already satisfied: tqdm in /usr/local/lib/python3.7/dist-packages (from keras-tuner<1.0.2,>=1->tfx) (4.62.0)\n",
            "Requirement already satisfied: terminaltables in /usr/local/lib/python3.7/dist-packages (from keras-tuner<1.0.2,>=1->tfx) (3.1.0)\n",
            "Requirement already satisfied: scikit-learn in /usr/local/lib/python3.7/dist-packages (from keras-tuner<1.0.2,>=1->tfx) (0.22.2.post1)\n",
            "Requirement already satisfied: colorama in /usr/local/lib/python3.7/dist-packages (from keras-tuner<1.0.2,>=1->tfx) (0.4.4)\n",
            "Requirement already satisfied: urllib3>=1.24.2 in /usr/local/lib/python3.7/dist-packages (from kubernetes<13,>=10.0.1->tfx) (1.24.3)\n",
            "Requirement already satisfied: certifi>=14.05.14 in /usr/local/lib/python3.7/dist-packages (from kubernetes<13,>=10.0.1->tfx) (2021.5.30)\n",
            "Requirement already satisfied: requests-oauthlib in /usr/local/lib/python3.7/dist-packages (from kubernetes<13,>=10.0.1->tfx) (1.3.0)\n",
            "Requirement already satisfied: pyasn1>=0.1.7 in /usr/local/lib/python3.7/dist-packages (from oauth2client<5,>=2.0.1->apache-beam[gcp]<3,>=2.31->tfx) (0.4.8)\n",
            "Requirement already satisfied: pyparsing>=2.0.2 in /usr/local/lib/python3.7/dist-packages (from packaging<21,>=20->tfx) (2.4.7)\n",
            "Requirement already satisfied: charset-normalizer~=2.0.0 in /usr/local/lib/python3.7/dist-packages (from requests<3.0.0,>=2.24.0->apache-beam[gcp]<3,>=2.31->tfx) (2.0.4)\n",
            "Requirement already satisfied: idna<4,>=2.5 in /usr/local/lib/python3.7/dist-packages (from requests<3.0.0,>=2.24.0->apache-beam[gcp]<3,>=2.31->tfx) (2.10)\n",
            "Requirement already satisfied: google-pasta~=0.2 in /usr/local/lib/python3.7/dist-packages (from tensorflow!=2.0.*,!=2.1.*,!=2.2.*,!=2.3.*,!=2.4.*,<2.6,>=1.15.2->tfx) (0.2.0)\n",
            "Requirement already satisfied: wrapt~=1.12.1 in /usr/local/lib/python3.7/dist-packages (from tensorflow!=2.0.*,!=2.1.*,!=2.2.*,!=2.3.*,!=2.4.*,<2.6,>=1.15.2->tfx) (1.12.1)\n",
            "Requirement already satisfied: gast==0.4.0 in /usr/local/lib/python3.7/dist-packages (from tensorflow!=2.0.*,!=2.1.*,!=2.2.*,!=2.3.*,!=2.4.*,<2.6,>=1.15.2->tfx) (0.4.0)\n",
            "Requirement already satisfied: h5py~=3.1.0 in /usr/local/lib/python3.7/dist-packages (from tensorflow!=2.0.*,!=2.1.*,!=2.2.*,!=2.3.*,!=2.4.*,<2.6,>=1.15.2->tfx) (3.1.0)\n",
            "Requirement already satisfied: flatbuffers~=1.12.0 in /usr/local/lib/python3.7/dist-packages (from tensorflow!=2.0.*,!=2.1.*,!=2.2.*,!=2.3.*,!=2.4.*,<2.6,>=1.15.2->tfx) (1.12)\n",
            "Requirement already satisfied: tensorboard~=2.5 in /usr/local/lib/python3.7/dist-packages (from tensorflow!=2.0.*,!=2.1.*,!=2.2.*,!=2.3.*,!=2.4.*,<2.6,>=1.15.2->tfx) (2.6.0)\n",
            "Requirement already satisfied: opt-einsum~=3.3.0 in /usr/local/lib/python3.7/dist-packages (from tensorflow!=2.0.*,!=2.1.*,!=2.2.*,!=2.3.*,!=2.4.*,<2.6,>=1.15.2->tfx) (3.3.0)\n",
            "Requirement already satisfied: wheel~=0.35 in /usr/local/lib/python3.7/dist-packages (from tensorflow!=2.0.*,!=2.1.*,!=2.2.*,!=2.3.*,!=2.4.*,<2.6,>=1.15.2->tfx) (0.37.0)\n",
            "Requirement already satisfied: astunparse~=1.6.3 in /usr/local/lib/python3.7/dist-packages (from tensorflow!=2.0.*,!=2.1.*,!=2.2.*,!=2.3.*,!=2.4.*,<2.6,>=1.15.2->tfx) (1.6.3)\n",
            "Requirement already satisfied: termcolor~=1.1.0 in /usr/local/lib/python3.7/dist-packages (from tensorflow!=2.0.*,!=2.1.*,!=2.2.*,!=2.3.*,!=2.4.*,<2.6,>=1.15.2->tfx) (1.1.0)\n",
            "Requirement already satisfied: keras-nightly~=2.5.0.dev in /usr/local/lib/python3.7/dist-packages (from tensorflow!=2.0.*,!=2.1.*,!=2.2.*,!=2.3.*,!=2.4.*,<2.6,>=1.15.2->tfx) (2.5.0.dev2021032900)\n",
            "Requirement already satisfied: keras-preprocessing~=1.1.2 in /usr/local/lib/python3.7/dist-packages (from tensorflow!=2.0.*,!=2.1.*,!=2.2.*,!=2.3.*,!=2.4.*,<2.6,>=1.15.2->tfx) (1.1.2)\n",
            "Requirement already satisfied: tensorflow-estimator<2.6.0,>=2.5.0 in /usr/local/lib/python3.7/dist-packages (from tensorflow!=2.0.*,!=2.1.*,!=2.2.*,!=2.3.*,!=2.4.*,<2.6,>=1.15.2->tfx) (2.5.0)\n",
            "Requirement already satisfied: cached-property in /usr/local/lib/python3.7/dist-packages (from h5py~=3.1.0->tensorflow!=2.0.*,!=2.1.*,!=2.2.*,!=2.3.*,!=2.4.*,<2.6,>=1.15.2->tfx) (1.5.2)\n",
            "Requirement already satisfied: markdown>=2.6.8 in /usr/local/lib/python3.7/dist-packages (from tensorboard~=2.5->tensorflow!=2.0.*,!=2.1.*,!=2.2.*,!=2.3.*,!=2.4.*,<2.6,>=1.15.2->tfx) (3.3.4)\n",
            "Requirement already satisfied: werkzeug>=0.11.15 in /usr/local/lib/python3.7/dist-packages (from tensorboard~=2.5->tensorflow!=2.0.*,!=2.1.*,!=2.2.*,!=2.3.*,!=2.4.*,<2.6,>=1.15.2->tfx) (1.0.1)\n",
            "Requirement already satisfied: tensorboard-plugin-wit>=1.6.0 in /usr/local/lib/python3.7/dist-packages (from tensorboard~=2.5->tensorflow!=2.0.*,!=2.1.*,!=2.2.*,!=2.3.*,!=2.4.*,<2.6,>=1.15.2->tfx) (1.8.0)\n",
            "Requirement already satisfied: tensorboard-data-server<0.7.0,>=0.6.0 in /usr/local/lib/python3.7/dist-packages (from tensorboard~=2.5->tensorflow!=2.0.*,!=2.1.*,!=2.2.*,!=2.3.*,!=2.4.*,<2.6,>=1.15.2->tfx) (0.6.1)\n",
            "Requirement already satisfied: google-auth-oauthlib<0.5,>=0.4.1 in /usr/local/lib/python3.7/dist-packages (from tensorboard~=2.5->tensorflow!=2.0.*,!=2.1.*,!=2.2.*,!=2.3.*,!=2.4.*,<2.6,>=1.15.2->tfx) (0.4.5)\n",
            "Requirement already satisfied: importlib-metadata in /usr/local/lib/python3.7/dist-packages (from markdown>=2.6.8->tensorboard~=2.5->tensorflow!=2.0.*,!=2.1.*,!=2.2.*,!=2.3.*,!=2.4.*,<2.6,>=1.15.2->tfx) (4.6.4)\n",
            "Requirement already satisfied: oauthlib>=3.0.0 in /usr/local/lib/python3.7/dist-packages (from requests-oauthlib->kubernetes<13,>=10.0.1->tfx) (3.1.1)\n",
            "Requirement already satisfied: tensorflow-metadata<1.3,>=1.2 in /usr/local/lib/python3.7/dist-packages (from tensorflow-data-validation<1.3.0,>=1.2.0->tfx) (1.2.0)\n",
            "Requirement already satisfied: pandas<2,>=1.0 in /usr/local/lib/python3.7/dist-packages (from tensorflow-data-validation<1.3.0,>=1.2.0->tfx) (1.1.5)\n",
            "Requirement already satisfied: joblib<0.15,>=0.12 in /usr/local/lib/python3.7/dist-packages (from tensorflow-data-validation<1.3.0,>=1.2.0->tfx) (0.14.1)\n",
            "Requirement already satisfied: ipywidgets<8,>=7 in /usr/local/lib/python3.7/dist-packages (from tensorflow-model-analysis<0.34,>=0.33->tfx) (7.6.3)\n",
            "Requirement already satisfied: ipython<8,>=7 in /usr/local/lib/python3.7/dist-packages (from tensorflow-model-analysis<0.34,>=0.33->tfx) (7.27.0)\n",
            "Requirement already satisfied: prompt-toolkit!=3.0.0,!=3.0.1,<3.1.0,>=2.0.0 in /usr/local/lib/python3.7/dist-packages (from ipython<8,>=7->tensorflow-model-analysis<0.34,>=0.33->tfx) (3.0.20)\n",
            "Requirement already satisfied: pickleshare in /usr/local/lib/python3.7/dist-packages (from ipython<8,>=7->tensorflow-model-analysis<0.34,>=0.33->tfx) (0.7.5)\n",
            "Requirement already satisfied: pygments in /usr/local/lib/python3.7/dist-packages (from ipython<8,>=7->tensorflow-model-analysis<0.34,>=0.33->tfx) (2.6.1)\n",
            "Requirement already satisfied: backcall in /usr/local/lib/python3.7/dist-packages (from ipython<8,>=7->tensorflow-model-analysis<0.34,>=0.33->tfx) (0.2.0)\n",
            "Requirement already satisfied: traitlets>=4.2 in /usr/local/lib/python3.7/dist-packages (from ipython<8,>=7->tensorflow-model-analysis<0.34,>=0.33->tfx) (5.0.5)\n",
            "Requirement already satisfied: jedi>=0.16 in /usr/local/lib/python3.7/dist-packages (from ipython<8,>=7->tensorflow-model-analysis<0.34,>=0.33->tfx) (0.18.0)\n",
            "Requirement already satisfied: decorator in /usr/local/lib/python3.7/dist-packages (from ipython<8,>=7->tensorflow-model-analysis<0.34,>=0.33->tfx) (4.4.2)\n",
            "Requirement already satisfied: matplotlib-inline in /usr/local/lib/python3.7/dist-packages (from ipython<8,>=7->tensorflow-model-analysis<0.34,>=0.33->tfx) (0.1.2)\n",
            "Requirement already satisfied: pexpect>4.3 in /usr/local/lib/python3.7/dist-packages (from ipython<8,>=7->tensorflow-model-analysis<0.34,>=0.33->tfx) (4.8.0)\n",
            "Requirement already satisfied: ipykernel>=4.5.1 in /usr/local/lib/python3.7/dist-packages (from ipywidgets<8,>=7->tensorflow-model-analysis<0.34,>=0.33->tfx) (4.10.1)\n",
            "Requirement already satisfied: nbformat>=4.2.0 in /usr/local/lib/python3.7/dist-packages (from ipywidgets<8,>=7->tensorflow-model-analysis<0.34,>=0.33->tfx) (5.1.3)\n",
            "Requirement already satisfied: jupyterlab-widgets>=1.0.0 in /usr/local/lib/python3.7/dist-packages (from ipywidgets<8,>=7->tensorflow-model-analysis<0.34,>=0.33->tfx) (1.0.0)\n",
            "Requirement already satisfied: widgetsnbextension~=3.5.0 in /usr/local/lib/python3.7/dist-packages (from ipywidgets<8,>=7->tensorflow-model-analysis<0.34,>=0.33->tfx) (3.5.1)\n",
            "Requirement already satisfied: tornado>=4.0 in /usr/local/lib/python3.7/dist-packages (from ipykernel>=4.5.1->ipywidgets<8,>=7->tensorflow-model-analysis<0.34,>=0.33->tfx) (5.1.1)\n",
            "Requirement already satisfied: jupyter-client in /usr/local/lib/python3.7/dist-packages (from ipykernel>=4.5.1->ipywidgets<8,>=7->tensorflow-model-analysis<0.34,>=0.33->tfx) (5.3.5)\n",
            "Requirement already satisfied: parso<0.9.0,>=0.8.0 in /usr/local/lib/python3.7/dist-packages (from jedi>=0.16->ipython<8,>=7->tensorflow-model-analysis<0.34,>=0.33->tfx) (0.8.2)\n",
            "Requirement already satisfied: jupyter-core in /usr/local/lib/python3.7/dist-packages (from nbformat>=4.2.0->ipywidgets<8,>=7->tensorflow-model-analysis<0.34,>=0.33->tfx) (4.7.1)\n",
            "Requirement already satisfied: jsonschema!=2.5.0,>=2.4 in /usr/local/lib/python3.7/dist-packages (from nbformat>=4.2.0->ipywidgets<8,>=7->tensorflow-model-analysis<0.34,>=0.33->tfx) (2.6.0)\n",
            "Requirement already satisfied: ipython-genutils in /usr/local/lib/python3.7/dist-packages (from nbformat>=4.2.0->ipywidgets<8,>=7->tensorflow-model-analysis<0.34,>=0.33->tfx) (0.2.0)\n",
            "Requirement already satisfied: ptyprocess>=0.5 in /usr/local/lib/python3.7/dist-packages (from pexpect>4.3->ipython<8,>=7->tensorflow-model-analysis<0.34,>=0.33->tfx) (0.7.0)\n",
            "Requirement already satisfied: wcwidth in /usr/local/lib/python3.7/dist-packages (from prompt-toolkit!=3.0.0,!=3.0.1,<3.1.0,>=2.0.0->ipython<8,>=7->tensorflow-model-analysis<0.34,>=0.33->tfx) (0.2.5)\n",
            "Requirement already satisfied: notebook>=4.4.1 in /usr/local/lib/python3.7/dist-packages (from widgetsnbextension~=3.5.0->ipywidgets<8,>=7->tensorflow-model-analysis<0.34,>=0.33->tfx) (5.3.1)\n",
            "Requirement already satisfied: terminado>=0.8.1 in /usr/local/lib/python3.7/dist-packages (from notebook>=4.4.1->widgetsnbextension~=3.5.0->ipywidgets<8,>=7->tensorflow-model-analysis<0.34,>=0.33->tfx) (0.11.0)\n",
            "Requirement already satisfied: Send2Trash in /usr/local/lib/python3.7/dist-packages (from notebook>=4.4.1->widgetsnbextension~=3.5.0->ipywidgets<8,>=7->tensorflow-model-analysis<0.34,>=0.33->tfx) (1.8.0)\n",
            "Requirement already satisfied: nbconvert in /usr/local/lib/python3.7/dist-packages (from notebook>=4.4.1->widgetsnbextension~=3.5.0->ipywidgets<8,>=7->tensorflow-model-analysis<0.34,>=0.33->tfx) (5.6.1)\n",
            "Requirement already satisfied: pyzmq>=13 in /usr/local/lib/python3.7/dist-packages (from jupyter-client->ipykernel>=4.5.1->ipywidgets<8,>=7->tensorflow-model-analysis<0.34,>=0.33->tfx) (22.2.1)\n",
            "Requirement already satisfied: zipp>=0.5 in /usr/local/lib/python3.7/dist-packages (from importlib-metadata->markdown>=2.6.8->tensorboard~=2.5->tensorflow!=2.0.*,!=2.1.*,!=2.2.*,!=2.3.*,!=2.4.*,<2.6,>=1.15.2->tfx) (3.5.0)\n",
            "Requirement already satisfied: testpath in /usr/local/lib/python3.7/dist-packages (from nbconvert->notebook>=4.4.1->widgetsnbextension~=3.5.0->ipywidgets<8,>=7->tensorflow-model-analysis<0.34,>=0.33->tfx) (0.5.0)\n",
            "Requirement already satisfied: entrypoints>=0.2.2 in /usr/local/lib/python3.7/dist-packages (from nbconvert->notebook>=4.4.1->widgetsnbextension~=3.5.0->ipywidgets<8,>=7->tensorflow-model-analysis<0.34,>=0.33->tfx) (0.3)\n",
            "Requirement already satisfied: defusedxml in /usr/local/lib/python3.7/dist-packages (from nbconvert->notebook>=4.4.1->widgetsnbextension~=3.5.0->ipywidgets<8,>=7->tensorflow-model-analysis<0.34,>=0.33->tfx) (0.7.1)\n",
            "Requirement already satisfied: pandocfilters>=1.4.1 in /usr/local/lib/python3.7/dist-packages (from nbconvert->notebook>=4.4.1->widgetsnbextension~=3.5.0->ipywidgets<8,>=7->tensorflow-model-analysis<0.34,>=0.33->tfx) (1.4.3)\n",
            "Requirement already satisfied: bleach in /usr/local/lib/python3.7/dist-packages (from nbconvert->notebook>=4.4.1->widgetsnbextension~=3.5.0->ipywidgets<8,>=7->tensorflow-model-analysis<0.34,>=0.33->tfx) (4.0.0)\n",
            "Requirement already satisfied: mistune<2,>=0.8.1 in /usr/local/lib/python3.7/dist-packages (from nbconvert->notebook>=4.4.1->widgetsnbextension~=3.5.0->ipywidgets<8,>=7->tensorflow-model-analysis<0.34,>=0.33->tfx) (0.8.4)\n",
            "Requirement already satisfied: webencodings in /usr/local/lib/python3.7/dist-packages (from bleach->nbconvert->notebook>=4.4.1->widgetsnbextension~=3.5.0->ipywidgets<8,>=7->tensorflow-model-analysis<0.34,>=0.33->tfx) (0.5.1)\n"
          ]
        }
      ]
    },
    {
      "cell_type": "code",
      "metadata": {
        "colab": {
          "base_uri": "https://localhost:8080/"
        },
        "id": "aKHp48AGWqpV",
        "outputId": "937f3221-58fe-4da5-9907-3bf13cdf352e"
      },
      "source": [
        "import tensorflow as tf\n",
        "import tensorflow_data_validation as tfdv\n",
        "import pandas as pd\n",
        "\n",
        "from sklearn.model_selection import train_test_split\n",
        "from util import add_extra_rows\n",
        "\n",
        " \n",
        "\n",
        "print('TFDV Version: {}'.format(tfdv.__version__))\n",
        "print('Tensorflow Version: {}'.format(tf.__version__))"
      ],
      "execution_count": null,
      "outputs": [
        {
          "output_type": "stream",
          "name": "stdout",
          "text": [
            "TFDV Version: 1.2.0\n",
            "Tensorflow Version: 2.5.1\n"
          ]
        }
      ]
    },
    {
      "cell_type": "code",
      "metadata": {
        "id": "vA5zSFgWdo5J",
        "colab": {
          "base_uri": "https://localhost:8080/"
        },
        "outputId": "7f6d0dca-b524-4b93-a429-41e4f11733ee"
      },
      "source": [
        "import tensorflow as tf\n",
        "import tensorflow_data_validation as tfdv\n",
        "import pandas as pd\n",
        "\n",
        "from sklearn.model_selection import train_test_split\n",
        "from util import add_extra_rows\n",
        "\n",
        "print(\"TFDV Version: {}\".format(tfdv.__version__))\n",
        "print(\"Tensorflow Version: {}\".format(tf.__version__))"
      ],
      "execution_count": null,
      "outputs": [
        {
          "output_type": "stream",
          "name": "stdout",
          "text": [
            "TFDV Version: 1.2.0\n",
            "Tensorflow Version: 2.5.1\n"
          ]
        }
      ]
    },
    {
      "cell_type": "code",
      "metadata": {
        "id": "pV8oWqp-fiwC"
      },
      "source": [
        "# Read in the training and evaluation datasets\n",
        "df = pd.read_csv('/content/adult.data', skipinitialspace=True)\n",
        "\n",
        "# Split the dataset. Do not shuffle for this demo notebook.\n",
        "train_df, eval_df = train_test_split(df, test_size=0.2, shuffle=False)"
      ],
      "execution_count": 23,
      "outputs": []
    },
    {
      "cell_type": "code",
      "metadata": {
        "id": "ngR05239f4iB"
      },
      "source": [
        "df = pd.read_csv('/content/adult.data', skipinitialspace = True, error_bad_lines = False) # error_bad_lines : boolean, default True. Lines with too many fields (e.g. a csv line with too many commas) will by default cause an exception to be raised, and no DataFrame will be returned. If False, then these “bad lines” will dropped from the DataFrame that is returned. ( Only valid with C parser)\n",
        "train_df, eval_df = train_test_split(df, test_size=0.2, shuffle = False)"
      ],
      "execution_count": null,
      "outputs": []
    },
    {
      "cell_type": "code",
      "metadata": {
        "id": "yBYqZknDmUbm",
        "colab": {
          "base_uri": "https://localhost:8080/",
          "height": 287
        },
        "outputId": "ab8510a4-2661-4cd8-8e72-2b3f79590f5d"
      },
      "source": [
        "eval_df.head()"
      ],
      "execution_count": 24,
      "outputs": [
        {
          "output_type": "execute_result",
          "data": {
            "text/html": [
              "<div>\n",
              "<style scoped>\n",
              "    .dataframe tbody tr th:only-of-type {\n",
              "        vertical-align: middle;\n",
              "    }\n",
              "\n",
              "    .dataframe tbody tr th {\n",
              "        vertical-align: top;\n",
              "    }\n",
              "\n",
              "    .dataframe thead th {\n",
              "        text-align: right;\n",
              "    }\n",
              "</style>\n",
              "<table border=\"1\" class=\"dataframe\">\n",
              "  <thead>\n",
              "    <tr style=\"text-align: right;\">\n",
              "      <th></th>\n",
              "      <th>age</th>\n",
              "      <th>workclass</th>\n",
              "      <th>fnlwgt</th>\n",
              "      <th>education</th>\n",
              "      <th>education-num</th>\n",
              "      <th>marital-status</th>\n",
              "      <th>occupation</th>\n",
              "      <th>relationship</th>\n",
              "      <th>race</th>\n",
              "      <th>sex</th>\n",
              "      <th>capital-gain</th>\n",
              "      <th>capital-loss</th>\n",
              "      <th>hours-per-week</th>\n",
              "      <th>native-country</th>\n",
              "      <th>label</th>\n",
              "    </tr>\n",
              "  </thead>\n",
              "  <tbody>\n",
              "    <tr>\n",
              "      <th>26048</th>\n",
              "      <td>30</td>\n",
              "      <td>Private</td>\n",
              "      <td>270886</td>\n",
              "      <td>Some-college</td>\n",
              "      <td>10</td>\n",
              "      <td>Never-married</td>\n",
              "      <td>Other-service</td>\n",
              "      <td>Own-child</td>\n",
              "      <td>White</td>\n",
              "      <td>Female</td>\n",
              "      <td>0</td>\n",
              "      <td>0</td>\n",
              "      <td>40</td>\n",
              "      <td>United-States</td>\n",
              "      <td>&lt;=50K</td>\n",
              "    </tr>\n",
              "    <tr>\n",
              "      <th>26049</th>\n",
              "      <td>21</td>\n",
              "      <td>Private</td>\n",
              "      <td>216129</td>\n",
              "      <td>HS-grad</td>\n",
              "      <td>9</td>\n",
              "      <td>Never-married</td>\n",
              "      <td>Other-service</td>\n",
              "      <td>Own-child</td>\n",
              "      <td>White</td>\n",
              "      <td>Male</td>\n",
              "      <td>0</td>\n",
              "      <td>0</td>\n",
              "      <td>35</td>\n",
              "      <td>United-States</td>\n",
              "      <td>&lt;=50K</td>\n",
              "    </tr>\n",
              "    <tr>\n",
              "      <th>26050</th>\n",
              "      <td>33</td>\n",
              "      <td>Private</td>\n",
              "      <td>189368</td>\n",
              "      <td>Some-college</td>\n",
              "      <td>10</td>\n",
              "      <td>Married-civ-spouse</td>\n",
              "      <td>Transport-moving</td>\n",
              "      <td>Husband</td>\n",
              "      <td>Black</td>\n",
              "      <td>Male</td>\n",
              "      <td>0</td>\n",
              "      <td>0</td>\n",
              "      <td>40</td>\n",
              "      <td>United-States</td>\n",
              "      <td>&gt;50K</td>\n",
              "    </tr>\n",
              "    <tr>\n",
              "      <th>26051</th>\n",
              "      <td>19</td>\n",
              "      <td>?</td>\n",
              "      <td>141418</td>\n",
              "      <td>Some-college</td>\n",
              "      <td>10</td>\n",
              "      <td>Never-married</td>\n",
              "      <td>?</td>\n",
              "      <td>Own-child</td>\n",
              "      <td>White</td>\n",
              "      <td>Male</td>\n",
              "      <td>0</td>\n",
              "      <td>0</td>\n",
              "      <td>15</td>\n",
              "      <td>United-States</td>\n",
              "      <td>&lt;=50K</td>\n",
              "    </tr>\n",
              "    <tr>\n",
              "      <th>26052</th>\n",
              "      <td>19</td>\n",
              "      <td>Private</td>\n",
              "      <td>306225</td>\n",
              "      <td>HS-grad</td>\n",
              "      <td>9</td>\n",
              "      <td>Never-married</td>\n",
              "      <td>Handlers-cleaners</td>\n",
              "      <td>Own-child</td>\n",
              "      <td>White</td>\n",
              "      <td>Male</td>\n",
              "      <td>0</td>\n",
              "      <td>0</td>\n",
              "      <td>25</td>\n",
              "      <td>United-States</td>\n",
              "      <td>&lt;=50K</td>\n",
              "    </tr>\n",
              "  </tbody>\n",
              "</table>\n",
              "</div>"
            ],
            "text/plain": [
              "       age workclass  fnlwgt  ... hours-per-week  native-country  label\n",
              "26048  30   Private   270886  ...  40             United-States   <=50K\n",
              "26049  21   Private   216129  ...  35             United-States   <=50K\n",
              "26050  33   Private   189368  ...  40             United-States   >50K \n",
              "26051  19   ?         141418  ...  15             United-States   <=50K\n",
              "26052  19   Private   306225  ...  25             United-States   <=50K\n",
              "\n",
              "[5 rows x 15 columns]"
            ]
          },
          "metadata": {},
          "execution_count": 24
        }
      ]
    },
    {
      "cell_type": "markdown",
      "metadata": {
        "id": "OYH-C5ttmm8y"
      },
      "source": [
        "From these few columns, you can get a first impression of the data. You will notice that most are strings and integers. There are also columns that are mostly zeroes. In the next sections, you will see how to use TFDV to aggregate and process this information so you can inspect it more easily."
      ]
    },
    {
      "cell_type": "markdown",
      "metadata": {
        "id": "LJbbILPIAB0N"
      },
      "source": [
        "## Adding extra rows\n",
        "To demonstrate how TFDV can detect anomalies later, you will add a few extra rows to the evaluation dataset. These are either malformed or have values that will trigger certain alarms later in this notebook. The code to add these can be seen in the add_extra_rows() function of util.py found in your Jupyter workspace. You can look at it later and even modify it after you've completed the entire exercise. For now, let's just execute the function and add the rows that we've defined by default."
      ]
    },
    {
      "cell_type": "code",
      "metadata": {
        "id": "0rpQCce8mntg",
        "colab": {
          "base_uri": "https://localhost:8080/",
          "height": 360
        },
        "outputId": "84ef0deb-46f0-412f-a6a1-75629da72af2"
      },
      "source": [
        "eval_df = add_extra_rows(eval_df)\n",
        "eval_df.tail(4)"
      ],
      "execution_count": null,
      "outputs": [
        {
          "output_type": "execute_result",
          "data": {
            "text/html": [
              "<div>\n",
              "<style scoped>\n",
              "    .dataframe tbody tr th:only-of-type {\n",
              "        vertical-align: middle;\n",
              "    }\n",
              "\n",
              "    .dataframe tbody tr th {\n",
              "        vertical-align: top;\n",
              "    }\n",
              "\n",
              "    .dataframe thead th {\n",
              "        text-align: right;\n",
              "    }\n",
              "</style>\n",
              "<table border=\"1\" class=\"dataframe\">\n",
              "  <thead>\n",
              "    <tr style=\"text-align: right;\">\n",
              "      <th></th>\n",
              "      <th>age</th>\n",
              "      <th>workclass</th>\n",
              "      <th>fnlwgt</th>\n",
              "      <th>education</th>\n",
              "      <th>education-num</th>\n",
              "      <th>marital-status</th>\n",
              "      <th>occupation</th>\n",
              "      <th>relationship</th>\n",
              "      <th>race</th>\n",
              "      <th>sex</th>\n",
              "      <th>capital-gain</th>\n",
              "      <th>capital-loss</th>\n",
              "      <th>hours-per-week</th>\n",
              "      <th>native-country</th>\n",
              "      <th>label</th>\n",
              "    </tr>\n",
              "  </thead>\n",
              "  <tbody>\n",
              "    <tr>\n",
              "      <th>6513</th>\n",
              "      <td>46</td>\n",
              "      <td>NaN</td>\n",
              "      <td>257473</td>\n",
              "      <td>Bachelors</td>\n",
              "      <td>8</td>\n",
              "      <td>Married-civ-spouse</td>\n",
              "      <td>Plumber</td>\n",
              "      <td>Husband</td>\n",
              "      <td>Other</td>\n",
              "      <td>Male</td>\n",
              "      <td>1000</td>\n",
              "      <td>0</td>\n",
              "      <td>41</td>\n",
              "      <td>Australia</td>\n",
              "      <td>&gt;50K</td>\n",
              "    </tr>\n",
              "    <tr>\n",
              "      <th>6514</th>\n",
              "      <td>0</td>\n",
              "      <td>Private</td>\n",
              "      <td>257473</td>\n",
              "      <td>Masters</td>\n",
              "      <td>8</td>\n",
              "      <td>Married-civ-spouse</td>\n",
              "      <td>Adm-clerical</td>\n",
              "      <td>Wife</td>\n",
              "      <td>Asian</td>\n",
              "      <td>Female</td>\n",
              "      <td>0</td>\n",
              "      <td>0</td>\n",
              "      <td>40</td>\n",
              "      <td>Pakistan</td>\n",
              "      <td>&gt;50K</td>\n",
              "    </tr>\n",
              "    <tr>\n",
              "      <th>6515</th>\n",
              "      <td>1000</td>\n",
              "      <td>Private</td>\n",
              "      <td>257473</td>\n",
              "      <td>Masters</td>\n",
              "      <td>8</td>\n",
              "      <td>Married-civ-spouse</td>\n",
              "      <td>Prof-specialty</td>\n",
              "      <td>Husband</td>\n",
              "      <td>Black</td>\n",
              "      <td>Male</td>\n",
              "      <td>0</td>\n",
              "      <td>0</td>\n",
              "      <td>20</td>\n",
              "      <td>Cameroon</td>\n",
              "      <td>&lt;=50K</td>\n",
              "    </tr>\n",
              "    <tr>\n",
              "      <th>6516</th>\n",
              "      <td>25</td>\n",
              "      <td>?</td>\n",
              "      <td>257473</td>\n",
              "      <td>Masters</td>\n",
              "      <td>8</td>\n",
              "      <td>Married-civ-spouse</td>\n",
              "      <td>gamer</td>\n",
              "      <td>Husband</td>\n",
              "      <td>Asian</td>\n",
              "      <td>Female</td>\n",
              "      <td>0</td>\n",
              "      <td>0</td>\n",
              "      <td>50</td>\n",
              "      <td>Mongolia</td>\n",
              "      <td>&lt;=50K</td>\n",
              "    </tr>\n",
              "  </tbody>\n",
              "</table>\n",
              "</div>"
            ],
            "text/plain": [
              "       age workclass  fnlwgt  ... hours-per-week  native-country  label\n",
              "6513    46       NaN  257473  ...             41       Australia   >50K\n",
              "6514     0   Private  257473  ...             40        Pakistan   >50K\n",
              "6515  1000   Private  257473  ...             20        Cameroon  <=50K\n",
              "6516    25         ?  257473  ...             50        Mongolia  <=50K\n",
              "\n",
              "[4 rows x 15 columns]"
            ]
          },
          "metadata": {},
          "execution_count": 8
        }
      ]
    },
    {
      "cell_type": "markdown",
      "metadata": {
        "id": "34QAr4gF5c0a"
      },
      "source": [
        "## Generate and visualize training dataset statistics\n",
        "\n",
        "You can now compute and visualize the statistics of your training dataset. TFDV accepts three input formats: TensorFlow’s TFRecord, Pandas Dataframe, and CSV file. In this exercise, you will feed in the Pandas Dataframes you generated from the train-test split.\n",
        "\n",
        "You can compute your dataset statistics by using the generate_statistics_from_dataframe() method. Under the hood, it distributes the analysis via Apache Beam which allows it to scale over large datasets."
      ]
    },
    {
      "cell_type": "code",
      "metadata": {
        "id": "mmGAHCqkm-C7"
      },
      "source": [
        "train_stats = tfdv.generate_statistics_from_dataframe(train_df) "
      ],
      "execution_count": null,
      "outputs": []
    },
    {
      "cell_type": "code",
      "metadata": {
        "id": "zvqcF4AVqxx-",
        "colab": {
          "base_uri": "https://localhost:8080/",
          "height": 54
        },
        "outputId": "1f458130-d995-4914-914f-eeb811d47f96"
      },
      "source": [
        "# Visualize training dataset statistics\n",
        "tfdv.visualize_statistics(train_stats)"
      ],
      "execution_count": null,
      "outputs": [
        {
          "output_type": "display_data",
          "data": {
            "text/html": [
              "<iframe id='facets-iframe' width=\"100%\" height=\"500px\"></iframe>\n",
              "        <script>\n",
              "        facets_iframe = document.getElementById('facets-iframe');\n",
              "        facets_html = '<script src=\"https://cdnjs.cloudflare.com/ajax/libs/webcomponentsjs/1.3.3/webcomponents-lite.js\"><\\/script><link rel=\"import\" href=\"https://raw.githubusercontent.com/PAIR-code/facets/master/facets-dist/facets-jupyter.html\"><facets-overview proto-input=\"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\"></facets-overview>';\n",
              "        facets_iframe.srcdoc = facets_html;\n",
              "         facets_iframe.id = \"\";\n",
              "         setTimeout(() => {\n",
              "           facets_iframe.setAttribute('height', facets_iframe.contentWindow.document.body.offsetHeight + 'px')\n",
              "         }, 1500)\n",
              "         </script>"
            ],
            "text/plain": [
              "<IPython.core.display.HTML object>"
            ]
          },
          "metadata": {}
        }
      ]
    },
    {
      "cell_type": "markdown",
      "metadata": {
        "id": "XxVvlKDtr5Wp"
      },
      "source": [
        "# Infer data schema\n",
        "Next step is to create a data schema to describe your train set. Simply put, a schema describes standard characteristics of your data such as column data types and expected data value range. The schema is created on a dataset that you consider as reference, and can be reused to validate other incoming datasets.\n",
        "With the computed statistics, TFDV allows you to automatically generate an initial version of the schema using the infer_schema() method\n",
        "\n",
        "\n",
        "The expected presence of each feature, in terms of a minimum count and fraction \n",
        "of examples that must contain the feature.\n",
        "The expected valency of the feature in each example, i.e., minimum and maximum number of values.\n",
        "The expected domain of a feature, i.e., the small universe of values for a string feature, or range for an integer feature."
      ]
    },
    {
      "cell_type": "code",
      "metadata": {
        "id": "xU5oXq-Nr54J"
      },
      "source": [
        "schema = tfdv.infer_schema(statistics=train_stats)\n"
      ],
      "execution_count": null,
      "outputs": []
    },
    {
      "cell_type": "code",
      "metadata": {
        "id": "Fq5MXLApsKn4",
        "colab": {
          "base_uri": "https://localhost:8080/",
          "height": 1000
        },
        "outputId": "a810a797-02cc-40c4-a705-d3ff9acedcce"
      },
      "source": [
        "tfdv.display_schema(schema)"
      ],
      "execution_count": null,
      "outputs": [
        {
          "output_type": "display_data",
          "data": {
            "text/html": [
              "<div>\n",
              "<style scoped>\n",
              "    .dataframe tbody tr th:only-of-type {\n",
              "        vertical-align: middle;\n",
              "    }\n",
              "\n",
              "    .dataframe tbody tr th {\n",
              "        vertical-align: top;\n",
              "    }\n",
              "\n",
              "    .dataframe thead th {\n",
              "        text-align: right;\n",
              "    }\n",
              "</style>\n",
              "<table border=\"1\" class=\"dataframe\">\n",
              "  <thead>\n",
              "    <tr style=\"text-align: right;\">\n",
              "      <th></th>\n",
              "      <th>Type</th>\n",
              "      <th>Presence</th>\n",
              "      <th>Valency</th>\n",
              "      <th>Domain</th>\n",
              "    </tr>\n",
              "    <tr>\n",
              "      <th>Feature name</th>\n",
              "      <th></th>\n",
              "      <th></th>\n",
              "      <th></th>\n",
              "      <th></th>\n",
              "    </tr>\n",
              "  </thead>\n",
              "  <tbody>\n",
              "    <tr>\n",
              "      <th>'age'</th>\n",
              "      <td>INT</td>\n",
              "      <td>required</td>\n",
              "      <td></td>\n",
              "      <td>-</td>\n",
              "    </tr>\n",
              "    <tr>\n",
              "      <th>'workclass'</th>\n",
              "      <td>STRING</td>\n",
              "      <td>required</td>\n",
              "      <td></td>\n",
              "      <td>'workclass'</td>\n",
              "    </tr>\n",
              "    <tr>\n",
              "      <th>'fnlwgt'</th>\n",
              "      <td>INT</td>\n",
              "      <td>required</td>\n",
              "      <td></td>\n",
              "      <td>-</td>\n",
              "    </tr>\n",
              "    <tr>\n",
              "      <th>'education'</th>\n",
              "      <td>STRING</td>\n",
              "      <td>required</td>\n",
              "      <td></td>\n",
              "      <td>'education'</td>\n",
              "    </tr>\n",
              "    <tr>\n",
              "      <th>'education-num'</th>\n",
              "      <td>INT</td>\n",
              "      <td>required</td>\n",
              "      <td></td>\n",
              "      <td>-</td>\n",
              "    </tr>\n",
              "    <tr>\n",
              "      <th>'marital-status'</th>\n",
              "      <td>STRING</td>\n",
              "      <td>required</td>\n",
              "      <td></td>\n",
              "      <td>'marital-status'</td>\n",
              "    </tr>\n",
              "    <tr>\n",
              "      <th>'occupation'</th>\n",
              "      <td>STRING</td>\n",
              "      <td>required</td>\n",
              "      <td></td>\n",
              "      <td>'occupation'</td>\n",
              "    </tr>\n",
              "    <tr>\n",
              "      <th>'relationship'</th>\n",
              "      <td>STRING</td>\n",
              "      <td>required</td>\n",
              "      <td></td>\n",
              "      <td>'relationship'</td>\n",
              "    </tr>\n",
              "    <tr>\n",
              "      <th>'race'</th>\n",
              "      <td>STRING</td>\n",
              "      <td>required</td>\n",
              "      <td></td>\n",
              "      <td>'race'</td>\n",
              "    </tr>\n",
              "    <tr>\n",
              "      <th>'sex'</th>\n",
              "      <td>STRING</td>\n",
              "      <td>required</td>\n",
              "      <td></td>\n",
              "      <td>'sex'</td>\n",
              "    </tr>\n",
              "    <tr>\n",
              "      <th>'capital-gain'</th>\n",
              "      <td>INT</td>\n",
              "      <td>required</td>\n",
              "      <td></td>\n",
              "      <td>-</td>\n",
              "    </tr>\n",
              "    <tr>\n",
              "      <th>'capital-loss'</th>\n",
              "      <td>INT</td>\n",
              "      <td>required</td>\n",
              "      <td></td>\n",
              "      <td>-</td>\n",
              "    </tr>\n",
              "    <tr>\n",
              "      <th>'hours-per-week'</th>\n",
              "      <td>INT</td>\n",
              "      <td>required</td>\n",
              "      <td></td>\n",
              "      <td>-</td>\n",
              "    </tr>\n",
              "    <tr>\n",
              "      <th>'native-country'</th>\n",
              "      <td>STRING</td>\n",
              "      <td>required</td>\n",
              "      <td></td>\n",
              "      <td>'native-country'</td>\n",
              "    </tr>\n",
              "    <tr>\n",
              "      <th>'label'</th>\n",
              "      <td>STRING</td>\n",
              "      <td>required</td>\n",
              "      <td></td>\n",
              "      <td>'label'</td>\n",
              "    </tr>\n",
              "  </tbody>\n",
              "</table>\n",
              "</div>"
            ],
            "text/plain": [
              "                    Type  Presence Valency            Domain\n",
              "Feature name                                                \n",
              "'age'                INT  required                         -\n",
              "'workclass'       STRING  required               'workclass'\n",
              "'fnlwgt'             INT  required                         -\n",
              "'education'       STRING  required               'education'\n",
              "'education-num'      INT  required                         -\n",
              "'marital-status'  STRING  required          'marital-status'\n",
              "'occupation'      STRING  required              'occupation'\n",
              "'relationship'    STRING  required            'relationship'\n",
              "'race'            STRING  required                    'race'\n",
              "'sex'             STRING  required                     'sex'\n",
              "'capital-gain'       INT  required                         -\n",
              "'capital-loss'       INT  required                         -\n",
              "'hours-per-week'     INT  required                         -\n",
              "'native-country'  STRING  required          'native-country'\n",
              "'label'           STRING  required                   'label'"
            ]
          },
          "metadata": {}
        },
        {
          "output_type": "stream",
          "name": "stderr",
          "text": [
            "/usr/local/lib/python3.7/dist-packages/tensorflow_data_validation/utils/display_util.py:180: FutureWarning: Passing a negative integer is deprecated in version 1.0 and will not be supported in future version. Instead, use None to not limit the column width.\n",
            "  pd.set_option('max_colwidth', -1)\n"
          ]
        },
        {
          "output_type": "display_data",
          "data": {
            "text/html": [
              "<div>\n",
              "<style scoped>\n",
              "    .dataframe tbody tr th:only-of-type {\n",
              "        vertical-align: middle;\n",
              "    }\n",
              "\n",
              "    .dataframe tbody tr th {\n",
              "        vertical-align: top;\n",
              "    }\n",
              "\n",
              "    .dataframe thead th {\n",
              "        text-align: right;\n",
              "    }\n",
              "</style>\n",
              "<table border=\"1\" class=\"dataframe\">\n",
              "  <thead>\n",
              "    <tr style=\"text-align: right;\">\n",
              "      <th></th>\n",
              "      <th>Values</th>\n",
              "    </tr>\n",
              "    <tr>\n",
              "      <th>Domain</th>\n",
              "      <th></th>\n",
              "    </tr>\n",
              "  </thead>\n",
              "  <tbody>\n",
              "    <tr>\n",
              "      <th>'workclass'</th>\n",
              "      <td>'?', 'Federal-gov', 'Local-gov', 'Never-worked', 'Private', 'Self-emp-inc', 'Self-emp-not-inc', 'State-gov', 'Without-pay'</td>\n",
              "    </tr>\n",
              "    <tr>\n",
              "      <th>'education'</th>\n",
              "      <td>'10th', '11th', '12th', '1st-4th', '5th-6th', '7th-8th', '9th', 'Assoc-acdm', 'Assoc-voc', 'Bachelors', 'Doctorate', 'HS-grad', 'Masters', 'Preschool', 'Prof-school', 'Some-college'</td>\n",
              "    </tr>\n",
              "    <tr>\n",
              "      <th>'marital-status'</th>\n",
              "      <td>'Divorced', 'Married-AF-spouse', 'Married-civ-spouse', 'Married-spouse-absent', 'Never-married', 'Separated', 'Widowed'</td>\n",
              "    </tr>\n",
              "    <tr>\n",
              "      <th>'occupation'</th>\n",
              "      <td>'?', 'Adm-clerical', 'Armed-Forces', 'Craft-repair', 'Exec-managerial', 'Farming-fishing', 'Handlers-cleaners', 'Machine-op-inspct', 'Other-service', 'Priv-house-serv', 'Prof-specialty', 'Protective-serv', 'Sales', 'Tech-support', 'Transport-moving'</td>\n",
              "    </tr>\n",
              "    <tr>\n",
              "      <th>'relationship'</th>\n",
              "      <td>'Husband', 'Not-in-family', 'Other-relative', 'Own-child', 'Unmarried', 'Wife'</td>\n",
              "    </tr>\n",
              "    <tr>\n",
              "      <th>'race'</th>\n",
              "      <td>'Amer-Indian-Eskimo', 'Asian-Pac-Islander', 'Black', 'Other', 'White'</td>\n",
              "    </tr>\n",
              "    <tr>\n",
              "      <th>'sex'</th>\n",
              "      <td>'Female', 'Male'</td>\n",
              "    </tr>\n",
              "    <tr>\n",
              "      <th>'native-country'</th>\n",
              "      <td>'?', 'Cambodia', 'Canada', 'China', 'Columbia', 'Cuba', 'Dominican-Republic', 'Ecuador', 'El-Salvador', 'England', 'France', 'Germany', 'Greece', 'Guatemala', 'Haiti', 'Holand-Netherlands', 'Honduras', 'Hong', 'Hungary', 'India', 'Iran', 'Ireland', 'Italy', 'Jamaica', 'Japan', 'Laos', 'Mexico', 'Nicaragua', 'Outlying-US(Guam-USVI-etc)', 'Peru', 'Philippines', 'Poland', 'Portugal', 'Puerto-Rico', 'Scotland', 'South', 'Taiwan', 'Thailand', 'Trinadad&amp;Tobago', 'United-States', 'Vietnam', 'Yugoslavia'</td>\n",
              "    </tr>\n",
              "    <tr>\n",
              "      <th>'label'</th>\n",
              "      <td>'&lt;=50K', '&gt;50K'</td>\n",
              "    </tr>\n",
              "  </tbody>\n",
              "</table>\n",
              "</div>"
            ],
            "text/plain": [
              "                                                                                                                                                                                                                                                                                                                                                                                                                                                                                                                                 Values\n",
              "Domain                                                                                                                                                                                                                                                                                                                                                                                                                                                                                                                                 \n",
              "'workclass'       '?', 'Federal-gov', 'Local-gov', 'Never-worked', 'Private', 'Self-emp-inc', 'Self-emp-not-inc', 'State-gov', 'Without-pay'                                                                                                                                                                                                                                                                                                                                                                                           \n",
              "'education'       '10th', '11th', '12th', '1st-4th', '5th-6th', '7th-8th', '9th', 'Assoc-acdm', 'Assoc-voc', 'Bachelors', 'Doctorate', 'HS-grad', 'Masters', 'Preschool', 'Prof-school', 'Some-college'                                                                                                                                                                                                                                                                                                                                \n",
              "'marital-status'  'Divorced', 'Married-AF-spouse', 'Married-civ-spouse', 'Married-spouse-absent', 'Never-married', 'Separated', 'Widowed'                                                                                                                                                                                                                                                                                                                                                                                              \n",
              "'occupation'      '?', 'Adm-clerical', 'Armed-Forces', 'Craft-repair', 'Exec-managerial', 'Farming-fishing', 'Handlers-cleaners', 'Machine-op-inspct', 'Other-service', 'Priv-house-serv', 'Prof-specialty', 'Protective-serv', 'Sales', 'Tech-support', 'Transport-moving'                                                                                                                                                                                                                                                            \n",
              "'relationship'    'Husband', 'Not-in-family', 'Other-relative', 'Own-child', 'Unmarried', 'Wife'                                                                                                                                                                                                                                                                                                                                                                                                                                       \n",
              "'race'            'Amer-Indian-Eskimo', 'Asian-Pac-Islander', 'Black', 'Other', 'White'                                                                                                                                                                                                                                                                                                                                                                                                                                                \n",
              "'sex'             'Female', 'Male'                                                                                                                                                                                                                                                                                                                                                                                                                                                                                                     \n",
              "'native-country'  '?', 'Cambodia', 'Canada', 'China', 'Columbia', 'Cuba', 'Dominican-Republic', 'Ecuador', 'El-Salvador', 'England', 'France', 'Germany', 'Greece', 'Guatemala', 'Haiti', 'Holand-Netherlands', 'Honduras', 'Hong', 'Hungary', 'India', 'Iran', 'Ireland', 'Italy', 'Jamaica', 'Japan', 'Laos', 'Mexico', 'Nicaragua', 'Outlying-US(Guam-USVI-etc)', 'Peru', 'Philippines', 'Poland', 'Portugal', 'Puerto-Rico', 'Scotland', 'South', 'Taiwan', 'Thailand', 'Trinadad&Tobago', 'United-States', 'Vietnam', 'Yugoslavia'\n",
              "'label'           '<=50K', '>50K'                                                                                                                                                                                                                                                                                                                                                                                                                                                                                                      "
            ]
          },
          "metadata": {}
        }
      ]
    },
    {
      "cell_type": "markdown",
      "metadata": {
        "id": "Xl7Xtl3rBK2Q"
      },
      "source": [
        "## Generate and visualize evaluation dataset statistics\n",
        "The next step after generating the schema is to now look at the evaluation dataset. You will begin by computing its statistics then compare it with the training statistics. It is important that the numerical and categorical features of the evaluation data belongs roughly to the same range as the training data. Otherwise, you might have distribution skew that will negatively affect the accuracy of your model.\n",
        "\n",
        "TFDV allows you to generate both the training and evaluation dataset statistics side-by-side. You can use the visualize_statistics() function and pass additional parameters to overlay the statistics from both datasets (referenced as left-hand side and right-hand side statistics). Let's see what these parameters are:\n",
        "\n",
        "lhs_statistics: Required parameter. Expects an instance of DatasetFeatureStatisticsList.\n",
        "rhs_statistics: Expects an instance of DatasetFeatureStatisticsList to compare with lhs_statistics.\n",
        "lhs_name: Name of the lhs_statistics dataset.\n",
        "rhs_name: Name of the rhs_statistics dataset."
      ]
    },
    {
      "cell_type": "code",
      "metadata": {
        "id": "RWQXrieeuL_b",
        "colab": {
          "base_uri": "https://localhost:8080/",
          "height": 1000
        },
        "outputId": "fefd71f4-d7ad-4f08-ae77-7b0d224611fc"
      },
      "source": [
        "eval_stats = tfdv.generate_statistics_from_dataframe(eval_df)\n",
        "\n",
        "tfdv.visualize_statistics(\n",
        "    lhs_statistics=eval_stats,\n",
        "    rhs_statistics= train_stats,\n",
        "    lhs_name=\"EVAL_DATASET\",\n",
        "    rhs_name=\"TRAIN_DATASET\"\n",
        ")"
      ],
      "execution_count": 25,
      "outputs": [
        {
          "output_type": "display_data",
          "data": {
            "text/html": [
              "<iframe id='facets-iframe' width=\"100%\" height=\"500px\"></iframe>\n",
              "        <script>\n",
              "        facets_iframe = document.getElementById('facets-iframe');\n",
              "        facets_html = '<script src=\"https://cdnjs.cloudflare.com/ajax/libs/webcomponentsjs/1.3.3/webcomponents-lite.js\"><\\/script><link rel=\"import\" href=\"https://raw.githubusercontent.com/PAIR-code/facets/master/facets-dist/facets-jupyter.html\"><facets-overview proto-input=\"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\"></facets-overview>';\n",
              "        facets_iframe.srcdoc = facets_html;\n",
              "         facets_iframe.id = \"\";\n",
              "         setTimeout(() => {\n",
              "           facets_iframe.setAttribute('height', facets_iframe.contentWindow.document.body.offsetHeight + 'px')\n",
              "         }, 1500)\n",
              "         </script>"
            ],
            "text/plain": [
              "<IPython.core.display.HTML object>"
            ]
          },
          "metadata": {}
        }
      ]
    },
    {
      "cell_type": "code",
      "metadata": {
        "id": "Vr3NoWOVu_pZ"
      },
      "source": [
        "eval_df = eval_df[eval_df['age'] > 16]\n",
        "eval_df = eval_df[eval_df['age'] <91 ]\n",
        "\n",
        "eval_df.dropna(inplace=True)"
      ],
      "execution_count": null,
      "outputs": []
    },
    {
      "cell_type": "code",
      "metadata": {
        "id": "9HyNdAfGvVez",
        "colab": {
          "base_uri": "https://localhost:8080/",
          "height": 706
        },
        "outputId": "de52586b-48e4-4108-87e4-10000f425a96"
      },
      "source": [
        "eval_df"
      ],
      "execution_count": null,
      "outputs": [
        {
          "output_type": "execute_result",
          "data": {
            "text/html": [
              "<div>\n",
              "<style scoped>\n",
              "    .dataframe tbody tr th:only-of-type {\n",
              "        vertical-align: middle;\n",
              "    }\n",
              "\n",
              "    .dataframe tbody tr th {\n",
              "        vertical-align: top;\n",
              "    }\n",
              "\n",
              "    .dataframe thead th {\n",
              "        text-align: right;\n",
              "    }\n",
              "</style>\n",
              "<table border=\"1\" class=\"dataframe\">\n",
              "  <thead>\n",
              "    <tr style=\"text-align: right;\">\n",
              "      <th></th>\n",
              "      <th>age</th>\n",
              "      <th>workclass</th>\n",
              "      <th>fnlwgt</th>\n",
              "      <th>education</th>\n",
              "      <th>education-num</th>\n",
              "      <th>marital-status</th>\n",
              "      <th>occupation</th>\n",
              "      <th>relationship</th>\n",
              "      <th>race</th>\n",
              "      <th>sex</th>\n",
              "      <th>capital-gain</th>\n",
              "      <th>capital-loss</th>\n",
              "      <th>hours-per-week</th>\n",
              "      <th>native-country</th>\n",
              "      <th>label</th>\n",
              "    </tr>\n",
              "  </thead>\n",
              "  <tbody>\n",
              "    <tr>\n",
              "      <th>0</th>\n",
              "      <td>30</td>\n",
              "      <td>Private</td>\n",
              "      <td>270886</td>\n",
              "      <td>Some-college</td>\n",
              "      <td>10</td>\n",
              "      <td>Never-married</td>\n",
              "      <td>Other-service</td>\n",
              "      <td>Own-child</td>\n",
              "      <td>White</td>\n",
              "      <td>Female</td>\n",
              "      <td>0</td>\n",
              "      <td>0</td>\n",
              "      <td>40</td>\n",
              "      <td>United-States</td>\n",
              "      <td>&lt;=50K</td>\n",
              "    </tr>\n",
              "    <tr>\n",
              "      <th>1</th>\n",
              "      <td>21</td>\n",
              "      <td>Private</td>\n",
              "      <td>216129</td>\n",
              "      <td>HS-grad</td>\n",
              "      <td>9</td>\n",
              "      <td>Never-married</td>\n",
              "      <td>Other-service</td>\n",
              "      <td>Own-child</td>\n",
              "      <td>White</td>\n",
              "      <td>Male</td>\n",
              "      <td>0</td>\n",
              "      <td>0</td>\n",
              "      <td>35</td>\n",
              "      <td>United-States</td>\n",
              "      <td>&lt;=50K</td>\n",
              "    </tr>\n",
              "    <tr>\n",
              "      <th>2</th>\n",
              "      <td>33</td>\n",
              "      <td>Private</td>\n",
              "      <td>189368</td>\n",
              "      <td>Some-college</td>\n",
              "      <td>10</td>\n",
              "      <td>Married-civ-spouse</td>\n",
              "      <td>Transport-moving</td>\n",
              "      <td>Husband</td>\n",
              "      <td>Black</td>\n",
              "      <td>Male</td>\n",
              "      <td>0</td>\n",
              "      <td>0</td>\n",
              "      <td>40</td>\n",
              "      <td>United-States</td>\n",
              "      <td>&gt;50K</td>\n",
              "    </tr>\n",
              "    <tr>\n",
              "      <th>3</th>\n",
              "      <td>19</td>\n",
              "      <td>?</td>\n",
              "      <td>141418</td>\n",
              "      <td>Some-college</td>\n",
              "      <td>10</td>\n",
              "      <td>Never-married</td>\n",
              "      <td>?</td>\n",
              "      <td>Own-child</td>\n",
              "      <td>White</td>\n",
              "      <td>Male</td>\n",
              "      <td>0</td>\n",
              "      <td>0</td>\n",
              "      <td>15</td>\n",
              "      <td>United-States</td>\n",
              "      <td>&lt;=50K</td>\n",
              "    </tr>\n",
              "    <tr>\n",
              "      <th>4</th>\n",
              "      <td>19</td>\n",
              "      <td>Private</td>\n",
              "      <td>306225</td>\n",
              "      <td>HS-grad</td>\n",
              "      <td>9</td>\n",
              "      <td>Never-married</td>\n",
              "      <td>Handlers-cleaners</td>\n",
              "      <td>Own-child</td>\n",
              "      <td>White</td>\n",
              "      <td>Male</td>\n",
              "      <td>0</td>\n",
              "      <td>0</td>\n",
              "      <td>25</td>\n",
              "      <td>United-States</td>\n",
              "      <td>&lt;=50K</td>\n",
              "    </tr>\n",
              "    <tr>\n",
              "      <th>...</th>\n",
              "      <td>...</td>\n",
              "      <td>...</td>\n",
              "      <td>...</td>\n",
              "      <td>...</td>\n",
              "      <td>...</td>\n",
              "      <td>...</td>\n",
              "      <td>...</td>\n",
              "      <td>...</td>\n",
              "      <td>...</td>\n",
              "      <td>...</td>\n",
              "      <td>...</td>\n",
              "      <td>...</td>\n",
              "      <td>...</td>\n",
              "      <td>...</td>\n",
              "      <td>...</td>\n",
              "    </tr>\n",
              "    <tr>\n",
              "      <th>6509</th>\n",
              "      <td>40</td>\n",
              "      <td>Private</td>\n",
              "      <td>154374</td>\n",
              "      <td>HS-grad</td>\n",
              "      <td>9</td>\n",
              "      <td>Married-civ-spouse</td>\n",
              "      <td>Machine-op-inspct</td>\n",
              "      <td>Husband</td>\n",
              "      <td>White</td>\n",
              "      <td>Male</td>\n",
              "      <td>0</td>\n",
              "      <td>0</td>\n",
              "      <td>40</td>\n",
              "      <td>United-States</td>\n",
              "      <td>&gt;50K</td>\n",
              "    </tr>\n",
              "    <tr>\n",
              "      <th>6510</th>\n",
              "      <td>58</td>\n",
              "      <td>Private</td>\n",
              "      <td>151910</td>\n",
              "      <td>HS-grad</td>\n",
              "      <td>9</td>\n",
              "      <td>Widowed</td>\n",
              "      <td>Adm-clerical</td>\n",
              "      <td>Unmarried</td>\n",
              "      <td>White</td>\n",
              "      <td>Female</td>\n",
              "      <td>0</td>\n",
              "      <td>0</td>\n",
              "      <td>40</td>\n",
              "      <td>United-States</td>\n",
              "      <td>&lt;=50K</td>\n",
              "    </tr>\n",
              "    <tr>\n",
              "      <th>6511</th>\n",
              "      <td>22</td>\n",
              "      <td>Private</td>\n",
              "      <td>201490</td>\n",
              "      <td>HS-grad</td>\n",
              "      <td>9</td>\n",
              "      <td>Never-married</td>\n",
              "      <td>Adm-clerical</td>\n",
              "      <td>Own-child</td>\n",
              "      <td>White</td>\n",
              "      <td>Male</td>\n",
              "      <td>0</td>\n",
              "      <td>0</td>\n",
              "      <td>20</td>\n",
              "      <td>United-States</td>\n",
              "      <td>&lt;=50K</td>\n",
              "    </tr>\n",
              "    <tr>\n",
              "      <th>6512</th>\n",
              "      <td>52</td>\n",
              "      <td>Self-emp-inc</td>\n",
              "      <td>287927</td>\n",
              "      <td>HS-grad</td>\n",
              "      <td>9</td>\n",
              "      <td>Married-civ-spouse</td>\n",
              "      <td>Exec-managerial</td>\n",
              "      <td>Wife</td>\n",
              "      <td>White</td>\n",
              "      <td>Female</td>\n",
              "      <td>15024</td>\n",
              "      <td>0</td>\n",
              "      <td>40</td>\n",
              "      <td>United-States</td>\n",
              "      <td>&gt;50K</td>\n",
              "    </tr>\n",
              "    <tr>\n",
              "      <th>6516</th>\n",
              "      <td>25</td>\n",
              "      <td>?</td>\n",
              "      <td>257473</td>\n",
              "      <td>Masters</td>\n",
              "      <td>8</td>\n",
              "      <td>Married-civ-spouse</td>\n",
              "      <td>gamer</td>\n",
              "      <td>Husband</td>\n",
              "      <td>Asian</td>\n",
              "      <td>Female</td>\n",
              "      <td>0</td>\n",
              "      <td>0</td>\n",
              "      <td>50</td>\n",
              "      <td>Mongolia</td>\n",
              "      <td>&lt;=50K</td>\n",
              "    </tr>\n",
              "  </tbody>\n",
              "</table>\n",
              "<p>6514 rows × 15 columns</p>\n",
              "</div>"
            ],
            "text/plain": [
              "      age     workclass  fnlwgt  ... hours-per-week  native-country  label\n",
              "0     30   Private       270886  ...  40             United-States   <=50K\n",
              "1     21   Private       216129  ...  35             United-States   <=50K\n",
              "2     33   Private       189368  ...  40             United-States   >50K \n",
              "3     19   ?             141418  ...  15             United-States   <=50K\n",
              "4     19   Private       306225  ...  25             United-States   <=50K\n",
              "...   ..       ...          ...  ...  ..                       ...     ...\n",
              "6509  40   Private       154374  ...  40             United-States   >50K \n",
              "6510  58   Private       151910  ...  40             United-States   <=50K\n",
              "6511  22   Private       201490  ...  20             United-States   <=50K\n",
              "6512  52   Self-emp-inc  287927  ...  40             United-States   >50K \n",
              "6516  25   ?             257473  ...  50             Mongolia        <=50K\n",
              "\n",
              "[6514 rows x 15 columns]"
            ]
          },
          "metadata": {},
          "execution_count": 15
        }
      ]
    },
    {
      "cell_type": "code",
      "metadata": {
        "id": "42ThZ2kkv4ug",
        "colab": {
          "base_uri": "https://localhost:8080/",
          "height": 54
        },
        "outputId": "4892b9db-a97b-418d-b8e4-14d2543fed6a"
      },
      "source": [
        "eval_stats = tfdv.generate_statistics_from_dataframe(eval_df)\n",
        "tfdv.visualize_statistics(\n",
        "    lhs_statistics=eval_stats,\n",
        "    rhs_statistics=train_stats,\n",
        "    lhs_name=\"EVAL_DATASET\",\n",
        "    rhs_name = 'TRAIN_DATASEt'\n",
        ")"
      ],
      "execution_count": null,
      "outputs": [
        {
          "output_type": "display_data",
          "data": {
            "text/html": [
              "<iframe id='facets-iframe' width=\"100%\" height=\"500px\"></iframe>\n",
              "        <script>\n",
              "        facets_iframe = document.getElementById('facets-iframe');\n",
              "        facets_html = '<script src=\"https://cdnjs.cloudflare.com/ajax/libs/webcomponentsjs/1.3.3/webcomponents-lite.js\"><\\/script><link rel=\"import\" href=\"https://raw.githubusercontent.com/PAIR-code/facets/master/facets-dist/facets-jupyter.html\"><facets-overview proto-input=\"Cq5mCgxFVkFMX0RBVEFTRVQQ8jIavAcasgcKtgII8jIYASABLQAAgD8ypAIaGwkAAAAAAADwPxEAAAAAAADwPyEzMzMzM1uEQBobCQAAAAAAAPA/EQAAAAAAAPA/ITMzMzMzW4RAGhsJAAAAAAAA8D8RAAAAAAAA8D8hMzMzMzNbhEAaGwkAAAAAAADwPxEAAAAAAADwPyEzMzMzM1uEQBobCQAAAAAAAPA/EQAAAAAAAPA/ITMzMzMzW4RAGhsJAAAAAAAA8D8RAAAAAAAA8D8hMzMzMzNbhEAaGwkAAAAAAADwPxEAAAAAAADwPyEzMzMzM1uEQBobCQAAAAAAAPA/EQAAAAAAAPA/ITMzMzMzW4RAGhsJAAAAAAAA8D8RAAAAAAAA8D8hMzMzMzNbhEAaGwkAAAAAAADwPxEAAAAAAADwPyEzMzMzM1uEQCABQPIyERCBRvdmMkNAGVLrO9Da7CpAKQAAAAAAADFAMQAAAAAAgEJAOQAAAAAAgFZAQqICGhsJAAAAAAAAMUARzczMzMxMOEAh3nGKjmRvkUAaGwnNzMzMzEw4QBGamZmZmZk/QCE1gLdAAo6SQBobCZqZmZmZmT9AETMzMzMzc0NAIfh14JyRkpNAGhsJMzMzMzNzQ0ARmpmZmZkZR0AhXLG/7B7CkkAaGwmamZmZmRlHQBEAAAAAAMBKQCH8GHPXEn2IQBobCQAAAAAAwEpAEWZmZmZmZk5AITQRNjy94H9AGhsJZmZmZmZmTkARZmZmZmYGUUAhmnecoiOzdUAaGwlmZmZmZgZRQBGamZmZmdlSQCHMbTSAt6hVQBobCZqZmZmZ2VJAEc3MzMzMrFRAIeGVsgxxtDNAGhsJzczMzMysVEARAAAAAACAVkAhg1rTvOOEJEBCpAIaGwkAAAAAAAAxQBEAAAAAAAA2QCEzMzMzM1uEQBobCQAAAAAAADZAEQAAAAAAADpAITMzMzMzW4RAGhsJAAAAAAAAOkARAAAAAAAAPUAhMzMzMzNbhEAaGwkAAAAAAAA9QBEAAAAAAIBAQCEzMzMzM1uEQBobCQAAAAAAgEBAEQAAAAAAgEJAITMzMzMzW4RAGhsJAAAAAACAQkARAAAAAACAREAhMzMzMzNbhEAaGwkAAAAAAIBEQBEAAAAAAIBGQCEzMzMzM1uEQBobCQAAAAAAgEZAEQAAAAAAAElAITMzMzMzW4RAGhsJAAAAAAAASUARAAAAAAAATUAhMzMzMzNbhEAaGwkAAAAAAABNQBEAAAAAAIBWQCEzMzMzM1uEQCABQgUKA2FnZRqPBhACIv0FCrYCCPIyGAEgAS0AAIA/MqQCGhsJAAAAAAAA8D8RAAAAAAAA8D8hMzMzMzNbhEAaGwkAAAAAAADwPxEAAAAAAADwPyEzMzMzM1uEQBobCQAAAAAAAPA/EQAAAAAAAPA/ITMzMzMzW4RAGhsJAAAAAAAA8D8RAAAAAAAA8D8hMzMzMzNbhEAaGwkAAAAAAADwPxEAAAAAAADwPyEzMzMzM1uEQBobCQAAAAAAAPA/EQAAAAAAAPA/ITMzMzMzW4RAGhsJAAAAAAAA8D8RAAAAAAAA8D8hMzMzMzNbhEAaGwkAAAAAAADwPxEAAAAAAADwPyEzMzMzM1uEQBobCQAAAAAAAPA/EQAAAAAAAPA/ITMzMzMzW4RAGhsJAAAAAAAA8D8RAAAAAAAA8D8hMzMzMzNbhEAgAUDyMhAJGhISB1ByaXZhdGUZAAAAAADjsUAaGxIQU2VsZi1lbXAtbm90LWluYxkAAAAAAHB+QBoUEglMb2NhbC1nb3YZAAAAAACAeEAaDBIBPxkAAAAAAJB3QBoUEglTdGF0ZS1nb3YZAAAAAABwcEAaFxIMU2VsZi1lbXAtaW5jGQAAAAAAYGtAGhYSC0ZlZGVyYWwtZ292GQAAAAAA4GdAGhYSC1dpdGhvdXQtcGF5GQAAAAAAABBAGhcSDE5ldmVyLXdvcmtlZBkAAAAAAAAAQCVlHfpAKu0BChIiB1ByaXZhdGUpAAAAAADjsUAKHwgBEAEiEFNlbGYtZW1wLW5vdC1pbmMpAAAAAABwfkAKGAgCEAIiCUxvY2FsLWdvdikAAAAAAIB4QAoQCAMQAyIBPykAAAAAAJB3QAoYCAQQBCIJU3RhdGUtZ292KQAAAAAAcHBAChsIBRAFIgxTZWxmLWVtcC1pbmMpAAAAAABga0AKGggGEAYiC0ZlZGVyYWwtZ292KQAAAAAA4GdAChoIBxAHIgtXaXRob3V0LXBheSkAAAAAAAAQQAobCAgQCCIMTmV2ZXItd29ya2VkKQAAAAAAAABAQgsKCXdvcmtjbGFzcxq/BxqyBwq2AgjyMhgBIAEtAACAPzKkAhobCQAAAAAAAPA/EQAAAAAAAPA/ITMzMzMzW4RAGhsJAAAAAAAA8D8RAAAAAAAA8D8hMzMzMzNbhEAaGwkAAAAAAADwPxEAAAAAAADwPyEzMzMzM1uEQBobCQAAAAAAAPA/EQAAAAAAAPA/ITMzMzMzW4RAGhsJAAAAAAAA8D8RAAAAAAAA8D8hMzMzMzNbhEAaGwkAAAAAAADwPxEAAAAAAADwPyEzMzMzM1uEQBobCQAAAAAAAPA/EQAAAAAAAPA/ITMzMzMzW4RAGhsJAAAAAAAA8D8RAAAAAAAA8D8hMzMzMzNbhEAaGwkAAAAAAADwPxEAAAAAAADwPyEzMzMzM1uEQBobCQAAAAAAAPA/EQAAAAAAAPA/ITMzMzMzW4RAIAFA8jIRcln+PPgzB0EZWFI/lsQV+kApAAAAAIDkykAxAAAAACDPBUE5AAAAAO0sMUFCogIaGwkAAAAAgOTKQBFmZmZmloH+QCET/JDFd7OcQBobCWZmZmaWgf5AEWZmZmZO0wxBIZAneWmvfqdAGhsJZmZmZk7TDEERzMzMzOgyFUEh9Uw/6V8mkkAaGwnMzMzM6DIVQRFmZmZmKvwbQSE32CKUqmt3QBobCWZmZmYq/BtBEQAAAAC2YiFBIfx2lPShJFdAGhsJAAAAALZiIUERzMzMzFbHJEEhJzWcTZ5zNkAaGwnMzMzMVsckQRGZmZmZ9ysoQSHJoDrnp8woQBobCZmZmZn3KyhBEWZmZmaYkCtBIbrYAu/1HQBAGhsJZmZmZpiQK0ERMzMzMzn1LkEhutgC7/UdAEAaGwkzMzMzOfUuQREAAAAA7SwxQSG62ALv9R0AQEKkAhobCQAAAACA5MpAEQAAAADATO9AITMzMzMzW4RAGhsJAAAAAMBM70ARAAAAANCj+UAhMzMzMzNbhEAaGwkAAAAA0KP5QBEAAAAA0KX/QCEzMzMzM1uEQBobCQAAAADQpf9AEQAAAACYQQNBITMzMzMzW4RAGhsJAAAAAJhBA0ERAAAAACDPBUEhMzMzMzNbhEAaGwkAAAAAIM8FQREAAAAAKA8IQSEzMzMzM1uEQBobCQAAAAAoDwhBEQAAAAB4/wpBITMzMzMzW4RAGhsJAAAAAHj/CkERAAAAAHDjD0EhMzMzMzNbhEAaGwkAAAAAcOMPQREAAAAA+CYUQSEzMzMzM1uEQBobCQAAAAD4JhRBEQAAAADtLDFBITMzMzMzW4RAIAFCCAoGZm5sd2d0Gp8IEAIijQgKtgII8jIYASABLQAAgD8ypAIaGwkAAAAAAADwPxEAAAAAAADwPyEzMzMzM1uEQBobCQAAAAAAAPA/EQAAAAAAAPA/ITMzMzMzW4RAGhsJAAAAAAAA8D8RAAAAAAAA8D8hMzMzMzNbhEAaGwkAAAAAAADwPxEAAAAAAADwPyEzMzMzM1uEQBobCQAAAAAAAPA/EQAAAAAAAPA/ITMzMzMzW4RAGhsJAAAAAAAA8D8RAAAAAAAA8D8hMzMzMzNbhEAaGwkAAAAAAADwPxEAAAAAAADwPyEzMzMzM1uEQBobCQAAAAAAAPA/EQAAAAAAAPA/ITMzMzMzW4RAGhsJAAAAAAAA8D8RAAAAAAAA8D8hMzMzMzNbhEAaGwkAAAAAAADwPxEAAAAAAADwPyEzMzMzM1uEQCABQPIyEBAaEhIHSFMtZ3JhZBkAAAAAACKgQBoXEgxTb21lLWNvbGxlZ2UZAAAAAADglkAaFBIJQmFjaGVsb3JzGQAAAAAAYJBAGhISB01hc3RlcnMZAAAAAADAdkAaFBIJQXNzb2Mtdm9jGQAAAAAAkHFAGg8SBDExdGgZAAAAAADAbEAaFRIKQXNzb2MtYWNkbRkAAAAAAMBrQBoPEgQxMHRoGQAAAAAAIGZAGhISBzd0aC04dGgZAAAAAAAgYEAaFhILUHJvZi1zY2hvb2wZAAAAAADAX0AaDhIDOXRoGQAAAAAAAFlAGg8SBDEydGgZAAAAAABAV0AaFBIJRG9jdG9yYXRlGQAAAAAAAFRAGhISBzV0aC02dGgZAAAAAACAU0AaEhIHMXN0LTR0aBkAAAAAAABHQBoUEglQcmVzY2hvb2wZAAAAAAAAJEAl1ioHQSqDAwoSIgdIUy1ncmFkKQAAAAAAIqBAChsIARABIgxTb21lLWNvbGxlZ2UpAAAAAADglkAKGAgCEAIiCUJhY2hlbG9ycykAAAAAAGCQQAoWCAMQAyIHTWFzdGVycykAAAAAAMB2QAoYCAQQBCIJQXNzb2Mtdm9jKQAAAAAAkHFAChMIBRAFIgQxMXRoKQAAAAAAwGxAChkIBhAGIgpBc3NvYy1hY2RtKQAAAAAAwGtAChMIBxAHIgQxMHRoKQAAAAAAIGZAChYICBAIIgc3dGgtOHRoKQAAAAAAIGBAChoICRAJIgtQcm9mLXNjaG9vbCkAAAAAAMBfQAoSCAoQCiIDOXRoKQAAAAAAAFlAChMICxALIgQxMnRoKQAAAAAAQFdAChgIDBAMIglEb2N0b3JhdGUpAAAAAAAAVEAKFggNEA0iBzV0aC02dGgpAAAAAACAU0AKFggOEA4iBzFzdC00dGgpAAAAAAAAR0AKGAgPEA8iCVByZXNjaG9vbCkAAAAAAAAkQEILCgllZHVjYXRpb24axgcasgcKtgII8jIYASABLQAAgD8ypAIaGwkAAAAAAADwPxEAAAAAAADwPyEzMzMzM1uEQBobCQAAAAAAAPA/EQAAAAAAAPA/ITMzMzMzW4RAGhsJAAAAAAAA8D8RAAAAAAAA8D8hMzMzMzNbhEAaGwkAAAAAAADwPxEAAAAAAADwPyEzMzMzM1uEQBobCQAAAAAAAPA/EQAAAAAAAPA/ITMzMzMzW4RAGhsJAAAAAAAA8D8RAAAAAAAA8D8hMzMzMzNbhEAaGwkAAAAAAADwPxEAAAAAAADwPyEzMzMzM1uEQBobCQAAAAAAAPA/EQAAAAAAAPA/ITMzMzMzW4RAGhsJAAAAAAAA8D8RAAAAAAAA8D8hMzMzMzNbhEAaGwkAAAAAAADwPxEAAAAAAADwPyEzMzMzM1uEQCABQPIyERW4qqTZJyRAGdMT+uYc6ARAKQAAAAAAAPA/MQAAAAAAACRAOQAAAAAAADBAQqICGhsJAAAAAAAA8D8RAAAAAAAABEAhrBxaZDuvS0AaGwkAAAAAAAAEQBEAAAAAAAAQQCE0MzMzM1tUQBobCQAAAAAAABBAEQAAAAAAABZAIfp+arx0F2xAGhsJAAAAAAAAFkARAAAAAAAAHEAhuR6F61FkZkAaGwkAAAAAAAAcQBEAAAAAAAAhQCENAiuHFid0QBobCQAAAAAAACFAEQAAAAAAACRAIXE9CtdjKKBAGhsJAAAAAAAAJEARAAAAAAAAJ0AhFa5H4fo5m0AaGwkAAAAAAAAnQBEAAAAAAAAqQCH6fmq8dBdsQBobCQAAAAAAACpAEQAAAAAAAC1AIbXIdr4fCZZAGhsJAAAAAAAALUARAAAAAAAAMEAhJzEIrBymaUBCpAIaGwkAAAAAAADwPxEAAAAAAAAcQCEzMzMzM1uEQBobCQAAAAAAABxAEQAAAAAAACJAITMzMzMzW4RAGhsJAAAAAAAAIkARAAAAAAAAIkAhMzMzMzNbhEAaGwkAAAAAAAAiQBEAAAAAAAAiQCEzMzMzM1uEQBobCQAAAAAAACJAEQAAAAAAACRAITMzMzMzW4RAGhsJAAAAAAAAJEARAAAAAAAAJEAhMzMzMzNbhEAaGwkAAAAAAAAkQBEAAAAAAAAmQCEzMzMzM1uEQBobCQAAAAAAACZAEQAAAAAAACpAITMzMzMzW4RAGhsJAAAAAAAAKkARAAAAAAAAKkAhMzMzMzNbhEAaGwkAAAAAAAAqQBEAAAAAAAAwQCEzMzMzM1uEQCABQg8KDWVkdWNhdGlvbi1udW0a4gUQAiLLBQq2AgjyMhgBIAEtAACAPzKkAhobCQAAAAAAAPA/EQAAAAAAAPA/ITMzMzMzW4RAGhsJAAAAAAAA8D8RAAAAAAAA8D8hMzMzMzNbhEAaGwkAAAAAAADwPxEAAAAAAADwPyEzMzMzM1uEQBobCQAAAAAAAPA/EQAAAAAAAPA/ITMzMzMzW4RAGhsJAAAAAAAA8D8RAAAAAAAA8D8hMzMzMzNbhEAaGwkAAAAAAADwPxEAAAAAAADwPyEzMzMzM1uEQBobCQAAAAAAAPA/EQAAAAAAAPA/ITMzMzMzW4RAGhsJAAAAAAAA8D8RAAAAAAAA8D8hMzMzMzNbhEAaGwkAAAAAAADwPxEAAAAAAADwPyEzMzMzM1uEQBobCQAAAAAAAPA/EQAAAAAAAPA/ITMzMzMzW4RAIAFA8jIQBxodEhJNYXJyaWVkLWNpdi1zcG91c2UZAAAAAADOp0AaGBINTmV2ZXItbWFycmllZBkAAAAAALKgQBoTEghEaXZvcmNlZBkAAAAAABCLQBoUEglTZXBhcmF0ZWQZAAAAAADgaEAaEhIHV2lkb3dlZBkAAAAAAIBnQBogEhVNYXJyaWVkLXNwb3VzZS1hYnNlbnQZAAAAAAAAUkAaHBIRTWFycmllZC1BRi1zcG91c2UZAAAAAAAAFEAlA4ZnQSrQAQodIhJNYXJyaWVkLWNpdi1zcG91c2UpAAAAAADOp0AKHAgBEAEiDU5ldmVyLW1hcnJpZWQpAAAAAACyoEAKFwgCEAIiCERpdm9yY2VkKQAAAAAAEItAChgIAxADIglTZXBhcmF0ZWQpAAAAAADgaEAKFggEEAQiB1dpZG93ZWQpAAAAAACAZ0AKJAgFEAUiFU1hcnJpZWQtc3BvdXNlLWFic2VudCkAAAAAAABSQAogCAYQBiIRTWFycmllZC1BRi1zcG91c2UpAAAAAAAAFEBCEAoObWFyaXRhbC1zdGF0dXMaugkQAiKnCQq2AgjyMhgBIAEtAACAPzKkAhobCQAAAAAAAPA/EQAAAAAAAPA/ITMzMzMzW4RAGhsJAAAAAAAA8D8RAAAAAAAA8D8hMzMzMzNbhEAaGwkAAAAAAADwPxEAAAAAAADwPyEzMzMzM1uEQBobCQAAAAAAAPA/EQAAAAAAAPA/ITMzMzMzW4RAGhsJAAAAAAAA8D8RAAAAAAAA8D8hMzMzMzNbhEAaGwkAAAAAAADwPxEAAAAAAADwPyEzMzMzM1uEQBobCQAAAAAAAPA/EQAAAAAAAPA/ITMzMzMzW4RAGhsJAAAAAAAA8D8RAAAAAAAA8D8hMzMzMzNbhEAaGwkAAAAAAADwPxEAAAAAAADwPyEzMzMzM1uEQBobCQAAAAAAAPA/EQAAAAAAAPA/ITMzMzMzW4RAIAFA8jIQEBoaEg9FeGVjLW1hbmFnZXJpYWwZAAAAAAC4ikAaFxIMQ3JhZnQtcmVwYWlyGQAAAAAAQIpAGhkSDlByb2Ytc3BlY2lhbHR5GQAAAAAAiIlAGhASBVNhbGVzGQAAAAAAgIZAGhcSDEFkbS1jbGVyaWNhbBkAAAAAAKCFQBoYEg1PdGhlci1zZXJ2aWNlGQAAAAAA2INAGhwSEU1hY2hpbmUtb3AtaW5zcGN0GQAAAAAAYHlAGgwSAT8ZAAAAAACgd0AaGxIQVHJhbnNwb3J0LW1vdmluZxkAAAAAALBzQBocEhFIYW5kbGVycy1jbGVhbmVycxkAAAAAALBzQBoaEg9GYXJtaW5nLWZpc2hpbmcZAAAAAACAaEAaFxIMVGVjaC1zdXBwb3J0GQAAAAAAQGhAGhoSD1Byb3RlY3RpdmUtc2VydhkAAAAAAABfQBoaEg9Qcml2LWhvdXNlLXNlcnYZAAAAAAAAOUAaEBIFZ2FtZXIZAAAAAAAA8D8aFxIMQXJtZWQtRm9yY2VzGQAAAAAAAPA/JW/BQ0Eq0AMKGiIPRXhlYy1tYW5hZ2VyaWFsKQAAAAAAuIpAChsIARABIgxDcmFmdC1yZXBhaXIpAAAAAABAikAKHQgCEAIiDlByb2Ytc3BlY2lhbHR5KQAAAAAAiIlAChQIAxADIgVTYWxlcykAAAAAAICGQAobCAQQBCIMQWRtLWNsZXJpY2FsKQAAAAAAoIVAChwIBRAFIg1PdGhlci1zZXJ2aWNlKQAAAAAA2INACiAIBhAGIhFNYWNoaW5lLW9wLWluc3BjdCkAAAAAAGB5QAoQCAcQByIBPykAAAAAAKB3QAofCAgQCCIQVHJhbnNwb3J0LW1vdmluZykAAAAAALBzQAogCAkQCSIRSGFuZGxlcnMtY2xlYW5lcnMpAAAAAACwc0AKHggKEAoiD0Zhcm1pbmctZmlzaGluZykAAAAAAIBoQAobCAsQCyIMVGVjaC1zdXBwb3J0KQAAAAAAQGhACh4IDBAMIg9Qcm90ZWN0aXZlLXNlcnYpAAAAAAAAX0AKHggNEA0iD1ByaXYtaG91c2Utc2VydikAAAAAAAA5QAoUCA4QDiIFZ2FtZXIpAAAAAAAA8D8KGwgPEA8iDEFybWVkLUZvcmNlcykAAAAAAADwP0IMCgpvY2N1cGF0aW9uGvgEEAIi4wQKtgII8jIYASABLQAAgD8ypAIaGwkAAAAAAADwPxEAAAAAAADwPyEzMzMzM1uEQBobCQAAAAAAAPA/EQAAAAAAAPA/ITMzMzMzW4RAGhsJAAAAAAAA8D8RAAAAAAAA8D8hMzMzMzNbhEAaGwkAAAAAAADwPxEAAAAAAADwPyEzMzMzM1uEQBobCQAAAAAAAPA/EQAAAAAAAPA/ITMzMzMzW4RAGhsJAAAAAAAA8D8RAAAAAAAA8D8hMzMzMzNbhEAaGwkAAAAAAADwPxEAAAAAAADwPyEzMzMzM1uEQBobCQAAAAAAAPA/EQAAAAAAAPA/ITMzMzMzW4RAGhsJAAAAAAAA8D8RAAAAAAAA8D8hMzMzMzNbhEAaGwkAAAAAAADwPxEAAAAAAADwPyEzMzMzM1uEQCABQPIyEAYaEhIHSHVzYmFuZBkAAAAAABClQBoYEg1Ob3QtaW4tZmFtaWx5GQAAAAAAzJhAGhQSCU93bi1jaGlsZBkAAAAAAKCPQBoUEglVbm1hcnJpZWQZAAAAAAC4hUAaDxIEV2lmZRkAAAAAACBzQBoZEg5PdGhlci1yZWxhdGl2ZRkAAAAAAEBrQCV2RBFBKpoBChIiB0h1c2JhbmQpAAAAAAAQpUAKHAgBEAEiDU5vdC1pbi1mYW1pbHkpAAAAAADMmEAKGAgCEAIiCU93bi1jaGlsZCkAAAAAAKCPQAoYCAMQAyIJVW5tYXJyaWVkKQAAAAAAuIVAChMIBBAEIgRXaWZlKQAAAAAAIHNACh0IBRAFIg5PdGhlci1yZWxhdGl2ZSkAAAAAAEBrQEIOCgxyZWxhdGlvbnNoaXAa8AQQAiLjBAq2AgjyMhgBIAEtAACAPzKkAhobCQAAAAAAAPA/EQAAAAAAAPA/ITMzMzMzW4RAGhsJAAAAAAAA8D8RAAAAAAAA8D8hMzMzMzNbhEAaGwkAAAAAAADwPxEAAAAAAADwPyEzMzMzM1uEQBobCQAAAAAAAPA/EQAAAAAAAPA/ITMzMzMzW4RAGhsJAAAAAAAA8D8RAAAAAAAA8D8hMzMzMzNbhEAaGwkAAAAAAADwPxEAAAAAAADwPyEzMzMzM1uEQBobCQAAAAAAAPA/EQAAAAAAAPA/ITMzMzMzW4RAGhsJAAAAAAAA8D8RAAAAAAAA8D8hMzMzMzNbhEAaGwkAAAAAAADwPxEAAAAAAADwPyEzMzMzM1uEQBobCQAAAAAAAPA/EQAAAAAAAPA/ITMzMzMzW4RAIAFA8jIQBhoQEgVXaGl0ZRkAAAAAAJ61QBoQEgVCbGFjaxkAAAAAADiEQBodEhJBc2lhbi1QYWMtSXNsYW5kZXIZAAAAAADAa0AaHRISQW1lci1JbmRpYW4tRXNraW1vGQAAAAAAgE1AGhASBU90aGVyGQAAAAAAgElAGhASBUFzaWFuGQAAAAAAAPA/JQLysUAqmgEKECIFV2hpdGUpAAAAAACetUAKFAgBEAEiBUJsYWNrKQAAAAAAOIRACiEIAhACIhJBc2lhbi1QYWMtSXNsYW5kZXIpAAAAAADAa0AKIQgDEAMiEkFtZXItSW5kaWFuLUVza2ltbykAAAAAAIBNQAoUCAQQBCIFT3RoZXIpAAAAAACASUAKFAgFEAUiBUFzaWFuKQAAAAAAAPA/QgYKBHJhY2UamgMQAiKOAwq2AgjyMhgBIAEtAACAPzKkAhobCQAAAAAAAPA/EQAAAAAAAPA/ITMzMzMzW4RAGhsJAAAAAAAA8D8RAAAAAAAA8D8hMzMzMzNbhEAaGwkAAAAAAADwPxEAAAAAAADwPyEzMzMzM1uEQBobCQAAAAAAAPA/EQAAAAAAAPA/ITMzMzMzW4RAGhsJAAAAAAAA8D8RAAAAAAAA8D8hMzMzMzNbhEAaGwkAAAAAAADwPxEAAAAAAADwPyEzMzMzM1uEQBobCQAAAAAAAPA/EQAAAAAAAPA/ITMzMzMzW4RAGhsJAAAAAAAA8D8RAAAAAAAA8D8hMzMzMzNbhEAaGwkAAAAAAADwPxEAAAAAAADwPyEzMzMzM1uEQBobCQAAAAAAAPA/EQAAAAAAAPA/ITMzMzMzW4RAIAFA8jIQAhoPEgRNYWxlGQAAAAAAB7FAGhESBkZlbWFsZRkAAAAAANagQCVALJVAKigKDyIETWFsZSkAAAAAAAexQAoVCAEQASIGRmVtYWxlKQAAAAAA1qBAQgUKA3NleBqBBhruBQq2AgjyMhgBIAEtAACAPzKkAhobCQAAAAAAAPA/EQAAAAAAAPA/ITMzMzMzW4RAGhsJAAAAAAAA8D8RAAAAAAAA8D8hMzMzMzNbhEAaGwkAAAAAAADwPxEAAAAAAADwPyEzMzMzM1uEQBobCQAAAAAAAPA/EQAAAAAAAPA/ITMzMzMzW4RAGhsJAAAAAAAA8D8RAAAAAAAA8D8hMzMzMzNbhEAaGwkAAAAAAADwPxEAAAAAAADwPyEzMzMzM1uEQBobCQAAAAAAAPA/EQAAAAAAAPA/ITMzMzMzW4RAGhsJAAAAAAAA8D8RAAAAAAAA8D8hMzMzMzNbhEAaGwkAAAAAAADwPxEAAAAAAADwPyEzMzMzM1uEQBobCQAAAAAAAPA/EQAAAAAAAPA/ITMzMzMzW4RAIAFA8jIRNiNAUJvUj0AZCSNGtlxEu0Ag3C45AAAAAPBp+EBCmQIaEhEzMzMz84fDQCFyg/ZTtN+4QBobCTMzMzPzh8NAETMzMzPzh9NAIcl6E2FmKFlAGhsJMzMzM/OH00ARzMzMzOxL3UAhharO0KmUKkAaGwnMzMzM7EvdQBEzMzMz84fjQCFF5GeV2eHsPxobCTMzMzPzh+NAEQAAAADwaehAIUXkZ5XZ4ew/GhsJAAAAAPBp6EARzMzMzOxL7UAhPuRnldnh7D8aGwnMzMzM7EvtQBHNzMzM9BbxQCFK5GeV2eHsPxobCc3MzMz0FvFAETMzMzPzh/NAIT7kZ5XZ4ew/GhsJMzMzM/OH80ARmZmZmfH49UAhPuRnldnh7D8aGwmZmZmZ8fj1QBEAAAAA8Gn4QCGX0sPQZPU6QEJ5GgkhMzMzMzNbhEAaCSEzMzMzM1uEQBoJITMzMzMzW4RAGgkhMzMzMzNbhEAaCSEzMzMzM1uEQBoJITMzMzMzW4RAGgkhMzMzMzNbhEAaCSEzMzMzM1uEQBoJITMzMzMzW4RAGhIRAAAAAPBp+EAhMzMzMzNbhEAgAUIOCgxjYXBpdGFsLWdhaW4agQYa7gUKtgII8jIYASABLQAAgD8ypAIaGwkAAAAAAADwPxEAAAAAAADwPyEzMzMzM1uEQBobCQAAAAAAAPA/EQAAAAAAAPA/ITMzMzMzW4RAGhsJAAAAAAAA8D8RAAAAAAAA8D8hMzMzMzNbhEAaGwkAAAAAAADwPxEAAAAAAADwPyEzMzMzM1uEQBobCQAAAAAAAPA/EQAAAAAAAPA/ITMzMzMzW4RAGhsJAAAAAAAA8D8RAAAAAAAA8D8hMzMzMzNbhEAaGwkAAAAAAADwPxEAAAAAAADwPyEzMzMzM1uEQBobCQAAAAAAAPA/EQAAAAAAAPA/ITMzMzMzW4RAGhsJAAAAAAAA8D8RAAAAAAAA8D8hMzMzMzNbhEAaGwkAAAAAAADwPxEAAAAAAADwPyEzMzMzM1uEQCABQPIyEejBxYyJelZAGaKQnayMe3lAILgwOQAAAAAABLFAQpkCGhIRmpmZmZk5e0AhkxlnJEg6uEAaGwmamZmZmTl7QBGamZmZmTmLQCHTJyui0oQNQBobCZqZmZmZOYtAETQzMzMza5RAIcN9GxteMRlAGhsJNDMzMzNrlEARmpmZmZk5m0AhohTgKAFZV0AaGwmamZmZmTmbQBEAAAAAAAShQCEexgqhNdVkQBobCQAAAAAABKFAETQzMzMza6RAIRTS5vjbmUFAGhsJNDMzMzNrpEARZ2ZmZmbSp0AhmQbYgADm+T8aGwlnZmZmZtKnQBGamZmZmTmrQCGZBtiAAOb5PxobCZqZmZmZOatAEc3MzMzMoK5AIZkG2IAA5vk/GhsJzczMzMygrkARAAAAAAAEsUAhmQbYgADm+T9CeRoJITMzMzMzW4RAGgkhMzMzMzNbhEAaCSEzMzMzM1uEQBoJITMzMzMzW4RAGgkhMzMzMzNbhEAaCSEzMzMzM1uEQBoJITMzMzMzW4RAGgkhMzMzMzNbhEAaCSEzMzMzM1uEQBoSEQAAAAAABLFAITMzMzMzW4RAIAFCDgoMY2FwaXRhbC1sb3NzGscHGrIHCrYCCPIyGAEgAS0AAIA/MqQCGhsJAAAAAAAA8D8RAAAAAAAA8D8hMzMzMzNbhEAaGwkAAAAAAADwPxEAAAAAAADwPyEzMzMzM1uEQBobCQAAAAAAAPA/EQAAAAAAAPA/ITMzMzMzW4RAGhsJAAAAAAAA8D8RAAAAAAAA8D8hMzMzMzNbhEAaGwkAAAAAAADwPxEAAAAAAADwPyEzMzMzM1uEQBobCQAAAAAAAPA/EQAAAAAAAPA/ITMzMzMzW4RAGhsJAAAAAAAA8D8RAAAAAAAA8D8hMzMzMzNbhEAaGwkAAAAAAADwPxEAAAAAAADwPyEzMzMzM1uEQBobCQAAAAAAAPA/EQAAAAAAAPA/ITMzMzMzW4RAGhsJAAAAAAAA8D8RAAAAAAAA8D8hMzMzMzNbhEAgAUDyMhGyFUz4cUZEQBkIYfL7QgIpQCkAAAAAAADwPzEAAAAAAABEQDkAAAAAAMBYQEKiAhobCQAAAAAAAPA/EZqZmZmZmSVAIaqCUUmdkGJAGhsJmpmZmZmZJUARmpmZmZmZNEAh001iEFjje0AaGwmamZmZmZk0QBFnZmZmZmY+QCGBJsKGp7l7QBobCWdmZmZmZj5AEZqZmZmZGURAIfjCZKogUKtAGhsJmpmZmZkZREARAAAAAAAASUAh/MvuycPtg0AaGwkAAAAAAABJQBFnZmZmZuZNQCGhibDh6QOKQBobCWdmZmZm5k1AEWdmZmZmZlFAIWu8dJMY/HVAGhsJZ2ZmZmZmUUARmpmZmZnZU0AhtFn1udqiVkAaGwmamZmZmdlTQBHNzMzMzExWQCGPNKXi7NNAQBobCc3MzMzMTFZAEQAAAAAAwFhAIa9vOtwhuEBAQqQCGhsJAAAAAAAA8D8RAAAAAAAAOEAhMzMzMzNbhEAaGwkAAAAAAAA4QBEAAAAAAIBBQCEzMzMzM1uEQBobCQAAAAAAgEFAEQAAAAAAAERAITMzMzMzW4RAGhsJAAAAAAAAREARAAAAAAAAREAhMzMzMzNbhEAaGwkAAAAAAABEQBEAAAAAAABEQCEzMzMzM1uEQBobCQAAAAAAAERAEQAAAAAAAERAITMzMzMzW4RAGhsJAAAAAAAAREARAAAAAAAARUAhMzMzMzNbhEAaGwkAAAAAAABFQBEAAAAAAABJQCEzMzMzM1uEQBobCQAAAAAAAElAEQAAAAAAgEtAITMzMzMzW4RAGhsJAAAAAACAS0ARAAAAAADAWEAhMzMzMzNbhEAgAUIQCg5ob3Vycy1wZXItd2VlaxqADhACIukNCrYCCPIyGAEgAS0AAIA/MqQCGhsJAAAAAAAA8D8RAAAAAAAA8D8hMzMzMzNbhEAaGwkAAAAAAADwPxEAAAAAAADwPyEzMzMzM1uEQBobCQAAAAAAAPA/EQAAAAAAAPA/ITMzMzMzW4RAGhsJAAAAAAAA8D8RAAAAAAAA8D8hMzMzMzNbhEAaGwkAAAAAAADwPxEAAAAAAADwPyEzMzMzM1uEQBobCQAAAAAAAPA/EQAAAAAAAPA/ITMzMzMzW4RAGhsJAAAAAAAA8D8RAAAAAAAA8D8hMzMzMzNbhEAaGwkAAAAAAADwPxEAAAAAAADwPyEzMzMzM1uEQBobCQAAAAAAAPA/EQAAAAAAAPA/ITMzMzMzW4RAGhsJAAAAAAAA8D8RAAAAAAAA8D8hMzMzMzNbhEAgAUDyMhAqGhgSDVVuaXRlZC1TdGF0ZXMZAAAAAAC4tkAaERIGTWV4aWNvGQAAAAAAwGBAGgwSAT8ZAAAAAABAXUAaFhILUGhpbGlwcGluZXMZAAAAAACAQ0AaEhIHR2VybWFueRkAAAAAAAA/QBoWEgtFbC1TYWx2YWRvchkAAAAAAAA+QBoQEgVJbmRpYRkAAAAAAAA9QBoPEgRDdWJhGQAAAAAAADVAGhISB0phbWFpY2EZAAAAAAAANEAaEBIFSXRhbHkZAAAAAAAAMkAaERIGQ2FuYWRhGQAAAAAAADJAGhISB1ZpZXRuYW0ZAAAAAAAALkAaHRISRG9taW5pY2FuLVJlcHVibGljGQAAAAAAAC5AGhYSC1B1ZXJ0by1SaWNvGQAAAAAAACxAGhASBVNvdXRoGQAAAAAAACpAGhMSCENvbHVtYmlhGQAAAAAAACpAGhASBUphcGFuGQAAAAAAAChAGhISB0VuZ2xhbmQZAAAAAAAAKEAaEBIFQ2hpbmEZAAAAAAAAKEAaFBIJR3VhdGVtYWxhGQAAAAAAACZAJTqXREEqiwgKGCINVW5pdGVkLVN0YXRlcykAAAAAALi2QAoVCAEQASIGTWV4aWNvKQAAAAAAwGBAChAIAhACIgE/KQAAAAAAQF1AChoIAxADIgtQaGlsaXBwaW5lcykAAAAAAIBDQAoWCAQQBCIHR2VybWFueSkAAAAAAAA/QAoaCAUQBSILRWwtU2FsdmFkb3IpAAAAAAAAPkAKFAgGEAYiBUluZGlhKQAAAAAAAD1AChMIBxAHIgRDdWJhKQAAAAAAADVAChYICBAIIgdKYW1haWNhKQAAAAAAADRAChQICRAJIgVJdGFseSkAAAAAAAAyQAoVCAoQCiIGQ2FuYWRhKQAAAAAAADJAChYICxALIgdWaWV0bmFtKQAAAAAAAC5ACiEIDBAMIhJEb21pbmljYW4tUmVwdWJsaWMpAAAAAAAALkAKGggNEA0iC1B1ZXJ0by1SaWNvKQAAAAAAACxAChQIDhAOIgVTb3V0aCkAAAAAAAAqQAoXCA8QDyIIQ29sdW1iaWEpAAAAAAAAKkAKFAgQEBAiBUphcGFuKQAAAAAAAChAChYIERARIgdFbmdsYW5kKQAAAAAAAChAChQIEhASIgVDaGluYSkAAAAAAAAoQAoYCBMQEyIJR3VhdGVtYWxhKQAAAAAAACZAChcIFBAUIghQb3J0dWdhbCkAAAAAAAAiQAoWCBUQFSIHRWN1YWRvcikAAAAAAAAiQAoTCBYQFiIEUGVydSkAAAAAAAAgQAoTCBcQFyIETGFvcykAAAAAAAAgQAoTCBgQGCIESG9uZykAAAAAAAAgQAoeCBkQGSIPVHJpbmFkYWQmVG9iYWdvKQAAAAAAABxAChUIGhAaIgZUYWl3YW4pAAAAAAAAHEAKFQgbEBsiBlBvbGFuZCkAAAAAAAAcQAoYCBwQHCIJTmljYXJhZ3VhKQAAAAAAABxACikIHRAdIhpPdXRseWluZy1VUyhHdWFtLVVTVkktZXRjKSkAAAAAAAAYQAoUCB4QHiIFSGFpdGkpAAAAAAAAGEAKFQgfEB8iBkdyZWVjZSkAAAAAAAAYQAoVCCAQICIGRnJhbmNlKQAAAAAAABhAChkIIRAhIgpZdWdvc2xhdmlhKQAAAAAAABRAChMIIhAiIgRJcmFuKQAAAAAAABRAChYIIxAjIgdJcmVsYW5kKQAAAAAAABBAChcIJBAkIghIb25kdXJhcykAAAAAAAAQQAoXCCUQJSIIU2NvdGxhbmQpAAAAAAAACEAKFggmECYiB0h1bmdhcnkpAAAAAAAACEAKFwgnECciCENhbWJvZGlhKQAAAAAAAAhAChcIKBAoIghUaGFpbGFuZCkAAAAAAAAAQAoXCCkQKSIITW9uZ29saWEpAAAAAAAA8D9CEAoObmF0aXZlLWNvdW50cnkamgMQAiKMAwq2AgjyMhgBIAEtAACAPzKkAhobCQAAAAAAAPA/EQAAAAAAAPA/ITMzMzMzW4RAGhsJAAAAAAAA8D8RAAAAAAAA8D8hMzMzMzNbhEAaGwkAAAAAAADwPxEAAAAAAADwPyEzMzMzM1uEQBobCQAAAAAAAPA/EQAAAAAAAPA/ITMzMzMzW4RAGhsJAAAAAAAA8D8RAAAAAAAA8D8hMzMzMzNbhEAaGwkAAAAAAADwPxEAAAAAAADwPyEzMzMzM1uEQBobCQAAAAAAAPA/EQAAAAAAAPA/ITMzMzMzW4RAGhsJAAAAAAAA8D8RAAAAAAAA8D8hMzMzMzNbhEAaGwkAAAAAAADwPxEAAAAAAADwPyEzMzMzM1uEQBobCQAAAAAAAPA/EQAAAAAAAPA/ITMzMzMzW4RAIAFA8jIQAhoQEgU8PTUwSxkAAAAAADKzQBoPEgQ+NTBLGQAAAAAAAJlAJdcjmEAqJwoQIgU8PTUwSykAAAAAADKzQAoTCAEQASIEPjUwSykAAAAAAACZQEIHCgVsYWJlbAqIZgoNVFJBSU5fREFUQVNFdBDAywEavgcatAcKuAIIwMsBGAEgAS0AAIA/MqQCGhsJAAAAAAAA8D8RAAAAAAAA8D8hmpmZmZlZpEAaGwkAAAAAAADwPxEAAAAAAADwPyGamZmZmVmkQBobCQAAAAAAAPA/EQAAAAAAAPA/IZqZmZmZWaRAGhsJAAAAAAAA8D8RAAAAAAAA8D8hmpmZmZlZpEAaGwkAAAAAAADwPxEAAAAAAADwPyGamZmZmVmkQBobCQAAAAAAAPA/EQAAAAAAAPA/IZqZmZmZWaRAGhsJAAAAAAAA8D8RAAAAAAAA8D8hmpmZmZlZpEAaGwkAAAAAAADwPxEAAAAAAADwPyGamZmZmVmkQBobCQAAAAAAAPA/EQAAAAAAAPA/IZqZmZmZWaRAGhsJAAAAAAAA8D8RAAAAAAAA8D8hmpmZmZlZpEAgAUDAywERPhKV5WVQQ0AZZNqfGCVeK0ApAAAAAAAAMUAxAAAAAACAQkA5AAAAAACAVkBCogIaGwkAAAAAAAAxQBHNzMzMzEw4QCE5RUdy+VOxQBobCc3MzMzMTDhAEZqZmZmZmT9AIYNRSZ2AcrJAGhsJmpmZmZmZP0ARMzMzMzNzQ0AhImx4eqXAskAaGwkzMzMzM3NDQBGamZmZmRlHQCFiodY071yzQBobCZqZmZmZGUdAEQAAAAAAwEpAIXo2qz5X46hAGhsJAAAAAADASkARZmZmZmZmTkAhAU2EDU9XoEAaGwlmZmZmZmZOQBFmZmZmZgZRQCGNBvAWSECTQBobCWZmZmZmBlFAEZqZmZmZ2VJAIb2vA+eM6HhAGhsJmpmZmZnZUkARzczMzMysVEAhUMGopE4AZUAaGwnNzMzMzKxUQBEAAAAAAIBWQCFqrIvbaABMQEKkAhobCQAAAAAAADFAEQAAAAAAADZAIZmZmZmZWaRAGhsJAAAAAAAANkARAAAAAAAAOkAhmZmZmZlZpEAaGwkAAAAAAAA6QBEAAAAAAAA+QCGZmZmZmVmkQBobCQAAAAAAAD5AEQAAAAAAgEBAIZmZmZmZWaRAGhsJAAAAAACAQEARAAAAAACAQkAhmZmZmZlZpEAaGwkAAAAAAIBCQBEAAAAAAIBEQCGZmZmZmVmkQBobCQAAAAAAgERAEQAAAAAAgEZAIZmZmZmZWaRAGhsJAAAAAACARkARAAAAAAAASUAhmZmZmZlZpEAaGwkAAAAAAABJQBEAAAAAAABNQCGZmZmZmVmkQBobCQAAAAAAAE1AEQAAAAAAgFZAIZmZmZmZWaRAIAFCBQoDYWdlGpEGEAIi/wUKuAIIwMsBGAEgAS0AAIA/MqQCGhsJAAAAAAAA8D8RAAAAAAAA8D8hmpmZmZlZpEAaGwkAAAAAAADwPxEAAAAAAADwPyGamZmZmVmkQBobCQAAAAAAAPA/EQAAAAAAAPA/IZqZmZmZWaRAGhsJAAAAAAAA8D8RAAAAAAAA8D8hmpmZmZlZpEAaGwkAAAAAAADwPxEAAAAAAADwPyGamZmZmVmkQBobCQAAAAAAAPA/EQAAAAAAAPA/IZqZmZmZWaRAGhsJAAAAAAAA8D8RAAAAAAAA8D8hmpmZmZlZpEAaGwkAAAAAAADwPxEAAAAAAADwPyGamZmZmVmkQBobCQAAAAAAAPA/EQAAAAAAAPA/IZqZmZmZWaRAGhsJAAAAAAAA8D8RAAAAAAAA8D8hmpmZmZlZpEAgAUDAywEQCRoSEgdQcml2YXRlGQAAAABAsdFAGhsSEFNlbGYtZW1wLW5vdC1pbmMZAAAAAAAMoEAaFBIJTG9jYWwtZ292GQAAAAAAlJpAGgwSAT8ZAAAAAADQlkAaFBIJU3RhdGUtZ292GQAAAAAALJBAGhcSDFNlbGYtZW1wLWluYxkAAAAAAAiMQBoWEgtGZWRlcmFsLWdvdhkAAAAAAAiIQBoWEgtXaXRob3V0LXBheRkAAAAAAAAkQBoXEgxOZXZlci13b3JrZWQZAAAAAAAAFEAlEAr8QCrtAQoSIgdQcml2YXRlKQAAAABAsdFACh8IARABIhBTZWxmLWVtcC1ub3QtaW5jKQAAAAAADKBAChgIAhACIglMb2NhbC1nb3YpAAAAAACUmkAKEAgDEAMiAT8pAAAAAADQlkAKGAgEEAQiCVN0YXRlLWdvdikAAAAAACyQQAobCAUQBSIMU2VsZi1lbXAtaW5jKQAAAAAACIxAChoIBhAGIgtGZWRlcmFsLWdvdikAAAAAAAiIQAoaCAcQByILV2l0aG91dC1wYXkpAAAAAAAAJEAKGwgIEAgiDE5ldmVyLXdvcmtlZCkAAAAAAAAUQEILCgl3b3JrY2xhc3MawQcatAcKuAIIwMsBGAEgAS0AAIA/MqQCGhsJAAAAAAAA8D8RAAAAAAAA8D8hmpmZmZlZpEAaGwkAAAAAAADwPxEAAAAAAADwPyGamZmZmVmkQBobCQAAAAAAAPA/EQAAAAAAAPA/IZqZmZmZWaRAGhsJAAAAAAAA8D8RAAAAAAAA8D8hmpmZmZlZpEAaGwkAAAAAAADwPxEAAAAAAADwPyGamZmZmVmkQBobCQAAAAAAAPA/EQAAAAAAAPA/IZqZmZmZWaRAGhsJAAAAAAAA8D8RAAAAAAAA8D8hmpmZmZlZpEAaGwkAAAAAAADwPxEAAAAAAADwPyGamZmZmVmkQBobCQAAAAAAAPA/EQAAAAAAAPA/IZqZmZmZWaRAGhsJAAAAAAAA8D8RAAAAAAAA8D8hmpmZmZlZpEAgAUDAywERjAcsNk4oB0EZpCGuOEew+UApAAAAAID+x0AxAAAAAHjEBUE5AAAAAKGnNkFCogIaGwkAAAAAgP7HQBEAAAAAOHkDQSF4E1rhgHjEQBobCQAAAAA4eQNBEQAAAABEuRJBIZuSSoEFBshAGhsJAAAAAES5EkERAAAAAOy1G0Eh371jdRnNpUAaGwkAAAAA7LUbQREAAAAASlkiQSGExDwuevJ2QBobCQAAAABKWSJBEQAAAACe1yZBIXxsh/TM2lNAGhsJAAAAAJ7XJkERAAAAAPJVK0EhqxybPBdkIUAaGwkAAAAA8lUrQREAAAAARtQvQSERXZ2wnSEVQBobCQAAAABG1C9BEQAAAABNKTJBIRFdnbCdIRVAGhsJAAAAAE0pMkERAAAAAHdoNEEhEV2dsJ0hFUAaGwkAAAAAd2g0QREAAAAAoac2QSERXZ2wnSEVQEKkAhobCQAAAACA/sdAEQAAAACQOvBAIZmZmZmZWaRAGhsJAAAAAJA68EARAAAAAEAZ+kAhmZmZmZlZpEAaGwkAAAAAQBn6QBEAAAAA8AQAQSGZmZmZmVmkQBobCQAAAADwBABBEQAAAABYYwNBIZmZmZmZWaRAGhsJAAAAAFhjA0ERAAAAAHjEBUEhmZmZmZlZpEAaGwkAAAAAeMQFQREAAAAAAPYHQSGZmZmZmVmkQBobCQAAAAAA9gdBEQAAAACwxQpBIZmZmZmZWaRAGhsJAAAAALDFCkERAAAAAGCuD0EhmZmZmZlZpEAaGwkAAAAAYK4PQREAAAAAXA8UQSGZmZmZmVmkQBobCQAAAABcDxRBEQAAAAChpzZBIZmZmZmZWaRAIAFCCAoGZm5sd2d0GqEIEAIijwgKuAIIwMsBGAEgAS0AAIA/MqQCGhsJAAAAAAAA8D8RAAAAAAAA8D8hmpmZmZlZpEAaGwkAAAAAAADwPxEAAAAAAADwPyGamZmZmVmkQBobCQAAAAAAAPA/EQAAAAAAAPA/IZqZmZmZWaRAGhsJAAAAAAAA8D8RAAAAAAAA8D8hmpmZmZlZpEAaGwkAAAAAAADwPxEAAAAAAADwPyGamZmZmVmkQBobCQAAAAAAAPA/EQAAAAAAAPA/IZqZmZmZWaRAGhsJAAAAAAAA8D8RAAAAAAAA8D8hmpmZmZlZpEAaGwkAAAAAAADwPxEAAAAAAADwPyGamZmZmVmkQBobCQAAAAAAAPA/EQAAAAAAAPA/IZqZmZmZWaRAGhsJAAAAAAAA8D8RAAAAAAAA8D8hmpmZmZlZpEAgAUDAywEQEBoSEgdIUy1ncmFkGQAAAAAAesBAGhcSDFNvbWUtY29sbGVnZRkAAAAAAMO2QBoUEglCYWNoZWxvcnMZAAAAAADTsEAaEhIHTWFzdGVycxkAAAAAAECVQBoUEglBc3NvYy12b2MZAAAAAAA0kUAaDxIEMTF0aBkAAAAAAIiNQBoVEgpBc3NvYy1hY2RtGQAAAAAAaIpAGg8SBDEwdGgZAAAAAACgh0AaEhIHN3RoLTh0aBkAAAAAACiAQBoWEgtQcm9mLXNjaG9vbBkAAAAAABB8QBoOEgM5dGgZAAAAAADgeUAaDxIEMTJ0aBkAAAAAAEB1QBoUEglEb2N0b3JhdGUZAAAAAADQdEAaEhIHNXRoLTZ0aBkAAAAAAOBvQBoSEgcxc3QtNHRoGQAAAAAAgF5AGhQSCVByZXNjaG9vbBkAAAAAAIBEQCWn4QZBKoMDChIiB0hTLWdyYWQpAAAAAAB6wEAKGwgBEAEiDFNvbWUtY29sbGVnZSkAAAAAAMO2QAoYCAIQAiIJQmFjaGVsb3JzKQAAAAAA07BAChYIAxADIgdNYXN0ZXJzKQAAAAAAQJVAChgIBBAEIglBc3NvYy12b2MpAAAAAAA0kUAKEwgFEAUiBDExdGgpAAAAAACIjUAKGQgGEAYiCkFzc29jLWFjZG0pAAAAAABoikAKEwgHEAciBDEwdGgpAAAAAACgh0AKFggIEAgiBzd0aC04dGgpAAAAAAAogEAKGggJEAkiC1Byb2Ytc2Nob29sKQAAAAAAEHxAChIIChAKIgM5dGgpAAAAAADgeUAKEwgLEAsiBDEydGgpAAAAAABAdUAKGAgMEAwiCURvY3RvcmF0ZSkAAAAAANB0QAoWCA0QDSIHNXRoLTZ0aCkAAAAAAOBvQAoWCA4QDiIHMXN0LTR0aCkAAAAAAIBeQAoYCA8QDyIJUHJlc2Nob29sKQAAAAAAgERAQgsKCWVkdWNhdGlvbhrIBxq0Bwq4AgjAywEYASABLQAAgD8ypAIaGwkAAAAAAADwPxEAAAAAAADwPyGamZmZmVmkQBobCQAAAAAAAPA/EQAAAAAAAPA/IZqZmZmZWaRAGhsJAAAAAAAA8D8RAAAAAAAA8D8hmpmZmZlZpEAaGwkAAAAAAADwPxEAAAAAAADwPyGamZmZmVmkQBobCQAAAAAAAPA/EQAAAAAAAPA/IZqZmZmZWaRAGhsJAAAAAAAA8D8RAAAAAAAA8D8hmpmZmZlZpEAaGwkAAAAAAADwPxEAAAAAAADwPyGamZmZmVmkQBobCQAAAAAAAPA/EQAAAAAAAPA/IZqZmZmZWaRAGhsJAAAAAAAA8D8RAAAAAAAA8D8hmpmZmZlZpEAaGwkAAAAAAADwPxEAAAAAAADwPyGamZmZmVmkQCABQMDLAREm3K6moSkkQBna4JkkyX8EQCkAAAAAAADwPzEAAAAAAAAkQDkAAAAAAAAwQEKiAhobCQAAAAAAAPA/EQAAAAAAAARAIUOLbOf7KWVAGhsJAAAAAAAABEARAAAAAAAAEEAh8dJNYhAYcUAaGwkAAAAAAAAQQBEAAAAAAAAWQCFoke18PxWMQBobCQAAAAAAABZAEQAAAAAAABxAIRbZzvdTA4hAGhsJAAAAAAAAHEARAAAAAAAAIUAhLt0kBoEllEAaGwkAAAAAAAAhQBEAAAAAAAAkQCE/NV66SYLAQBobCQAAAAAAACRAEQAAAAAAACdAIQRWDi2y6bpAGhsJAAAAAAAAJ0ARAAAAAAAAKkAhvp8aL91Ei0AaGwkAAAAAAAAqQBEAAAAAAAAtQCEIrBxaZAe2QBobCQAAAAAAAC1AEQAAAAAAADBAIcDKoUW204hAQqQCGhsJAAAAAAAA8D8RAAAAAAAAHEAhmZmZmZlZpEAaGwkAAAAAAAAcQBEAAAAAAAAiQCGZmZmZmVmkQBobCQAAAAAAACJAEQAAAAAAACJAIZmZmZmZWaRAGhsJAAAAAAAAIkARAAAAAAAAIkAhmZmZmZlZpEAaGwkAAAAAAAAiQBEAAAAAAAAkQCGZmZmZmVmkQBobCQAAAAAAACRAEQAAAAAAACRAIZmZmZmZWaRAGhsJAAAAAAAAJEARAAAAAAAAJkAhmZmZmZlZpEAaGwkAAAAAAAAmQBEAAAAAAAAqQCGZmZmZmVmkQBobCQAAAAAAACpAEQAAAAAAACpAIZmZmZmZWaRAGhsJAAAAAAAAKkARAAAAAAAAMEAhmZmZmZlZpEAgAUIPCg1lZHVjYXRpb24tbnVtGuQFEAIizQUKuAIIwMsBGAEgAS0AAIA/MqQCGhsJAAAAAAAA8D8RAAAAAAAA8D8hmpmZmZlZpEAaGwkAAAAAAADwPxEAAAAAAADwPyGamZmZmVmkQBobCQAAAAAAAPA/EQAAAAAAAPA/IZqZmZmZWaRAGhsJAAAAAAAA8D8RAAAAAAAA8D8hmpmZmZlZpEAaGwkAAAAAAADwPxEAAAAAAADwPyGamZmZmVmkQBobCQAAAAAAAPA/EQAAAAAAAPA/IZqZmZmZWaRAGhsJAAAAAAAA8D8RAAAAAAAA8D8hmpmZmZlZpEAaGwkAAAAAAADwPxEAAAAAAADwPyGamZmZmVmkQBobCQAAAAAAAPA/EQAAAAAAAPA/IZqZmZmZWaRAGhsJAAAAAAAA8D8RAAAAAAAA8D8hmpmZmZlZpEAgAUDAywEQBxodEhJNYXJyaWVkLWNpdi1zcG91c2UZAAAAAABNx0AaGBINTmV2ZXItbWFycmllZBkAAAAAALHAQBoTEghEaXZvcmNlZBkAAAAAAPKrQBoUEglTZXBhcmF0ZWQZAAAAAADQiUAaEhIHV2lkb3dlZBkAAAAAACiJQBogEhVNYXJyaWVkLXNwb3VzZS1hYnNlbnQZAAAAAACgdUAaHBIRTWFycmllZC1BRi1zcG91c2UZAAAAAAAAMkAl/2ZmQSrQAQodIhJNYXJyaWVkLWNpdi1zcG91c2UpAAAAAABNx0AKHAgBEAEiDU5ldmVyLW1hcnJpZWQpAAAAAACxwEAKFwgCEAIiCERpdm9yY2VkKQAAAAAA8qtAChgIAxADIglTZXBhcmF0ZWQpAAAAAADQiUAKFggEEAQiB1dpZG93ZWQpAAAAAAAoiUAKJAgFEAUiFU1hcnJpZWQtc3BvdXNlLWFic2VudCkAAAAAAKB1QAogCAYQBiIRTWFycmllZC1BRi1zcG91c2UpAAAAAAAAMkBCEAoObWFyaXRhbC1zdGF0dXMalAkQAiKBCQq4AgjAywEYASABLQAAgD8ypAIaGwkAAAAAAADwPxEAAAAAAADwPyGamZmZmVmkQBobCQAAAAAAAPA/EQAAAAAAAPA/IZqZmZmZWaRAGhsJAAAAAAAA8D8RAAAAAAAA8D8hmpmZmZlZpEAaGwkAAAAAAADwPxEAAAAAAADwPyGamZmZmVmkQBobCQAAAAAAAPA/EQAAAAAAAPA/IZqZmZmZWaRAGhsJAAAAAAAA8D8RAAAAAAAA8D8hmpmZmZlZpEAaGwkAAAAAAADwPxEAAAAAAADwPyGamZmZmVmkQBobCQAAAAAAAPA/EQAAAAAAAPA/IZqZmZmZWaRAGhsJAAAAAAAA8D8RAAAAAAAA8D8hmpmZmZlZpEAaGwkAAAAAAADwPxEAAAAAAADwPyGamZmZmVmkQCABQMDLARAPGhkSDlByb2Ytc3BlY2lhbHR5GQAAAAAA9qlAGhcSDENyYWZ0LXJlcGFpchkAAAAAAHapQBoaEg9FeGVjLW1hbmFnZXJpYWwZAAAAAAAWqUAaFxIMQWRtLWNsZXJpY2FsGQAAAAAADKhAGhASBVNhbGVzGQAAAAAA5KZAGhgSDU90aGVyLXNlcnZpY2UZAAAAAADIpEAaHBIRTWFjaGluZS1vcC1pbnNwY3QZAAAAAADwmEAaDBIBPxkAAAAAAOSWQBobEhBUcmFuc3BvcnQtbW92aW5nGQAAAAAACJRAGhwSEUhhbmRsZXJzLWNsZWFuZXJzGQAAAAAAfJBAGhoSD0Zhcm1pbmctZmlzaGluZxkAAAAAAPCIQBoXEgxUZWNoLXN1cHBvcnQZAAAAAADwhkAaGhIPUHJvdGVjdGl2ZS1zZXJ2GQAAAAAAaIBAGhoSD1ByaXYtaG91c2Utc2VydhkAAAAAAABfQBoXEgxBcm1lZC1Gb3JjZXMZAAAAAAAAIEAlNxhDQSq6AwoZIg5Qcm9mLXNwZWNpYWx0eSkAAAAAAPapQAobCAEQASIMQ3JhZnQtcmVwYWlyKQAAAAAAdqlACh4IAhACIg9FeGVjLW1hbmFnZXJpYWwpAAAAAAAWqUAKGwgDEAMiDEFkbS1jbGVyaWNhbCkAAAAAAAyoQAoUCAQQBCIFU2FsZXMpAAAAAADkpkAKHAgFEAUiDU90aGVyLXNlcnZpY2UpAAAAAADIpEAKIAgGEAYiEU1hY2hpbmUtb3AtaW5zcGN0KQAAAAAA8JhAChAIBxAHIgE/KQAAAAAA5JZACh8ICBAIIhBUcmFuc3BvcnQtbW92aW5nKQAAAAAACJRACiAICRAJIhFIYW5kbGVycy1jbGVhbmVycykAAAAAAHyQQAoeCAoQCiIPRmFybWluZy1maXNoaW5nKQAAAAAA8IhAChsICxALIgxUZWNoLXN1cHBvcnQpAAAAAADwhkAKHggMEAwiD1Byb3RlY3RpdmUtc2VydikAAAAAAGiAQAoeCA0QDSIPUHJpdi1ob3VzZS1zZXJ2KQAAAAAAAF9AChsIDhAOIgxBcm1lZC1Gb3JjZXMpAAAAAAAAIEBCDAoKb2NjdXBhdGlvbhr6BBACIuUECrgCCMDLARgBIAEtAACAPzKkAhobCQAAAAAAAPA/EQAAAAAAAPA/IZqZmZmZWaRAGhsJAAAAAAAA8D8RAAAAAAAA8D8hmpmZmZlZpEAaGwkAAAAAAADwPxEAAAAAAADwPyGamZmZmVmkQBobCQAAAAAAAPA/EQAAAAAAAPA/IZqZmZmZWaRAGhsJAAAAAAAA8D8RAAAAAAAA8D8hmpmZmZlZpEAaGwkAAAAAAADwPxEAAAAAAADwPyGamZmZmVmkQBobCQAAAAAAAPA/EQAAAAAAAPA/IZqZmZmZWaRAGhsJAAAAAAAA8D8RAAAAAAAA8D8hmpmZmZlZpEAaGwkAAAAAAADwPxEAAAAAAADwPyGamZmZmVmkQBobCQAAAAAAAPA/EQAAAAAAAPA/IZqZmZmZWaRAIAFAwMsBEAYaEhIHSHVzYmFuZBkAAAAAAIHEQBoYEg1Ob3QtaW4tZmFtaWx5GQAAAAAAPrpAGhQSCU93bi1jaGlsZBkAAAAAALCvQBoUEglVbm1hcnJpZWQZAAAAAAB+pUAaDxIEV2lmZRkAAAAAALiTQBoZEg5PdGhlci1yZWxhdGl2ZRkAAAAAANiHQCWoExJBKpoBChIiB0h1c2JhbmQpAAAAAACBxEAKHAgBEAEiDU5vdC1pbi1mYW1pbHkpAAAAAAA+ukAKGAgCEAIiCU93bi1jaGlsZCkAAAAAALCvQAoYCAMQAyIJVW5tYXJyaWVkKQAAAAAAfqVAChMIBBAEIgRXaWZlKQAAAAAAuJNACh0IBRAFIg5PdGhlci1yZWxhdGl2ZSkAAAAAANiHQEIOCgxyZWxhdGlvbnNoaXAaygQQAiK9BAq4AgjAywEYASABLQAAgD8ypAIaGwkAAAAAAADwPxEAAAAAAADwPyGamZmZmVmkQBobCQAAAAAAAPA/EQAAAAAAAPA/IZqZmZmZWaRAGhsJAAAAAAAA8D8RAAAAAAAA8D8hmpmZmZlZpEAaGwkAAAAAAADwPxEAAAAAAADwPyGamZmZmVmkQBobCQAAAAAAAPA/EQAAAAAAAPA/IZqZmZmZWaRAGhsJAAAAAAAA8D8RAAAAAAAA8D8hmpmZmZlZpEAaGwkAAAAAAADwPxEAAAAAAADwPyGamZmZmVmkQBobCQAAAAAAAPA/EQAAAAAAAPA/IZqZmZmZWaRAGhsJAAAAAAAA8D8RAAAAAAAA8D8hmpmZmZlZpEAaGwkAAAAAAADwPxEAAAAAAADwPyGamZmZmVmkQCABQMDLARAFGhASBVdoaXRlGQAAAACAwtVAGhASBUJsYWNrGQAAAAAAWqNAGh0SEkFzaWFuLVBhYy1Jc2xhbmRlchkAAAAAAIiJQBodEhJBbWVyLUluZGlhbi1Fc2tpbW8ZAAAAAACAb0AaEBIFT3RoZXIZAAAAAACAa0AljhKxQCqEAQoQIgVXaGl0ZSkAAAAAgMLVQAoUCAEQASIFQmxhY2spAAAAAABao0AKIQgCEAIiEkFzaWFuLVBhYy1Jc2xhbmRlcikAAAAAAIiJQAohCAMQAyISQW1lci1JbmRpYW4tRXNraW1vKQAAAAAAgG9AChQIBBAEIgVPdGhlcikAAAAAAIBrQEIGCgRyYWNlGpwDEAIikAMKuAIIwMsBGAEgAS0AAIA/MqQCGhsJAAAAAAAA8D8RAAAAAAAA8D8hmpmZmZlZpEAaGwkAAAAAAADwPxEAAAAAAADwPyGamZmZmVmkQBobCQAAAAAAAPA/EQAAAAAAAPA/IZqZmZmZWaRAGhsJAAAAAAAA8D8RAAAAAAAA8D8hmpmZmZlZpEAaGwkAAAAAAADwPxEAAAAAAADwPyGamZmZmVmkQBobCQAAAAAAAPA/EQAAAAAAAPA/IZqZmZmZWaRAGhsJAAAAAAAA8D8RAAAAAAAA8D8hmpmZmZlZpEAaGwkAAAAAAADwPxEAAAAAAADwPyGamZmZmVmkQBobCQAAAAAAAPA/EQAAAAAAAPA/IZqZmZmZWaRAGhsJAAAAAAAA8D8RAAAAAAAA8D8hmpmZmZlZpEAgAUDAywEQAhoPEgRNYWxlGQAAAADABdFAGhESBkZlbWFsZRkAAAAAgNTAQCUILJVAKigKDyIETWFsZSkAAAAAwAXRQAoVCAEQASIGRmVtYWxlKQAAAACA1MBAQgUKA3NleBqEBhrxBQq4AgjAywEYASABLQAAgD8ypAIaGwkAAAAAAADwPxEAAAAAAADwPyGamZmZmVmkQBobCQAAAAAAAPA/EQAAAAAAAPA/IZqZmZmZWaRAGhsJAAAAAAAA8D8RAAAAAAAA8D8hmpmZmZlZpEAaGwkAAAAAAADwPxEAAAAAAADwPyGamZmZmVmkQBobCQAAAAAAAPA/EQAAAAAAAPA/IZqZmZmZWaRAGhsJAAAAAAAA8D8RAAAAAAAA8D8hmpmZmZlZpEAaGwkAAAAAAADwPxEAAAAAAADwPyGamZmZmVmkQBobCQAAAAAAAPA/EQAAAAAAAPA/IZqZmZmZWaRAGhsJAAAAAAAA8D8RAAAAAAAA8D8hmpmZmZlZpEAaGwkAAAAAAADwPxEAAAAAAADwPyGamZmZmVmkQCABQMDLARHEeMBihRGRQBm7QhglyDq9QCC+ugE5AAAAAPBp+EBCmQIaEhEzMzMz84fDQCHXN5hJsNbYQBobCTMzMzPzh8NAETMzMzPzh9NAIVDzM+B+6XpAGhsJMzMzM/OH00ARzMzMzOxL3UAhNMxJGNklO0AaGwnMzMzM7EvdQBEzMzMz84fjQCExYm5tlN8MQBobCTMzMzPzh+NAEQAAAADwaehAITFibm2U3wxAGhsJAAAAAPBp6EARzMzMzOxL7UAhK2JubZTfDEAaGwnMzMzM7EvtQBHNzMzM9BbxQCE3Ym5tlN8MQBobCc3MzMz0FvFAETMzMzPzh/NAIStibm2U3wxAGhsJMzMzM/OH80ARmZmZmfH49UAhK2JubZTfDEAaGwmZmZmZ8fj1QBEAAAAA8Gn4QCHQmjBmLLtgQEJ5GgkhmZmZmZlZpEAaCSGZmZmZmVmkQBoJIZmZmZmZWaRAGgkhmZmZmZlZpEAaCSGZmZmZmVmkQBoJIZmZmZmZWaRAGgkhmZmZmZlZpEAaCSGZmZmZmVmkQBoJIZmZmZmZWaRAGhIRAAAAAPBp+EAhmZmZmZlZpEAgAUIOCgxjYXBpdGFsLWdhaW4ahAYa8QUKuAIIwMsBGAEgAS0AAIA/MqQCGhsJAAAAAAAA8D8RAAAAAAAA8D8hmpmZmZlZpEAaGwkAAAAAAADwPxEAAAAAAADwPyGamZmZmVmkQBobCQAAAAAAAPA/EQAAAAAAAPA/IZqZmZmZWaRAGhsJAAAAAAAA8D8RAAAAAAAA8D8hmpmZmZlZpEAaGwkAAAAAAADwPxEAAAAAAADwPyGamZmZmVmkQBobCQAAAAAAAPA/EQAAAAAAAPA/IZqZmZmZWaRAGhsJAAAAAAAA8D8RAAAAAAAA8D8hmpmZmZlZpEAaGwkAAAAAAADwPxEAAAAAAADwPyGamZmZmVmkQBobCQAAAAAAAPA/EQAAAAAAAPA/IZqZmZmZWaRAGhsJAAAAAAAA8D8RAAAAAAAA8D8hmpmZmZlZpEAgAUDAywERBqEA2XGpVUAZZ1LmkuIbeUAgi8IBOQAAAAAABLFAQpkCGhIRmpmZmZk5e0AhbZC1zptE2EAaGwmamZmZmTl7QBGamZmZmTmLQCGO/gONDtwwQBobCZqZmZmZOYtAETQzMzMza5RAIdjuMUGAQDpAGhsJNDMzMzNrlEARmpmZmZk5m0AhG2MDh+i0dUAaGwmamZmZmTmbQBEAAAAAAAShQCHAT/qJ3ISDQBobCQAAAAAABKFAETQzMzMza6RAIZj409sNqWNAGhsJNDMzMzNrpEARZ2ZmZmbSp0AhYGxoza1BGUAaGwlnZmZmZtKnQBGamZmZmTmrQCFgbGjNrUEZQBobCZqZmZmZOatAEc3MzMzMoK5AIWBsaM2tQRlAGhsJzczMzMygrkARAAAAAAAEsUAhYGxoza1BGUBCeRoJIZmZmZmZWaRAGgkhmZmZmZlZpEAaCSGZmZmZmVmkQBoJIZmZmZmZWaRAGgkhmZmZmZlZpEAaCSGZmZmZmVmkQBoJIZmZmZmZWaRAGgkhmZmZmZlZpEAaCSGZmZmZmVmkQBoSEQAAAAAABLFAIZmZmZmZWaRAIAFCDgoMY2FwaXRhbC1sb3NzGskHGrQHCrgCCMDLARgBIAEtAACAPzKkAhobCQAAAAAAAPA/EQAAAAAAAPA/IZqZmZmZWaRAGhsJAAAAAAAA8D8RAAAAAAAA8D8hmpmZmZlZpEAaGwkAAAAAAADwPxEAAAAAAADwPyGamZmZmVmkQBobCQAAAAAAAPA/EQAAAAAAAPA/IZqZmZmZWaRAGhsJAAAAAAAA8D8RAAAAAAAA8D8hmpmZmZlZpEAaGwkAAAAAAADwPxEAAAAAAADwPyGamZmZmVmkQBobCQAAAAAAAPA/EQAAAAAAAPA/IZqZmZmZWaRAGhsJAAAAAAAA8D8RAAAAAAAA8D8hmpmZmZlZpEAaGwkAAAAAAADwPxEAAAAAAADwPyGamZmZmVmkQBobCQAAAAAAAPA/EQAAAAAAAPA/IZqZmZmZWaRAIAFAwMsBEaEA2XFtNERAGc0cTp5enShAKQAAAAAAAPA/MQAAAAAAAERAOQAAAAAAwFhAQqICGhsJAAAAAAAA8D8RmpmZmZmZJUAheVioNc07gkAaGwmamZmZmZklQBGamZmZmZk0QCG1hHzQs1mbQBobCZqZmZmZmTRAEWdmZmZmZj5AIfkx5q4lJJ1AGhsJZ2ZmZmZmPkARmpmZmZkZREAh46WbxCDUy0AaGwmamZmZmRlEQBEAAAAAAABJQCF0tRX7y36jQBobCQAAAAAAAElAEWdmZmZm5k1AIW6jAbwFyqdAGhsJZ2ZmZmbmTUARZ2ZmZmZmUUAh2r+y0qRklkAaGwlnZmZmZmZRQBGamZmZmdlTQCHRHcTOFLp2QBobCZqZmZmZ2VNAEc3MzMzMTFZAIWrH5ygafmNAGhsJzczMzMxMVkARAAAAAADAWEAhjL/Hc5DqWkBCpAIaGwkAAAAAAADwPxEAAAAAAAA4QCGZmZmZmVmkQBobCQAAAAAAADhAEQAAAAAAgEFAIZmZmZmZWaRAGhsJAAAAAACAQUARAAAAAAAAREAhmZmZmZlZpEAaGwkAAAAAAABEQBEAAAAAAABEQCGZmZmZmVmkQBobCQAAAAAAAERAEQAAAAAAAERAIZmZmZmZWaRAGhsJAAAAAAAAREARAAAAAAAAREAhmZmZmZlZpEAaGwkAAAAAAABEQBEAAAAAAABEQCGZmZmZmVmkQBobCQAAAAAAAERAEQAAAAAAAEhAIZmZmZmZWaRAGhsJAAAAAAAASEARAAAAAACAS0AhmZmZmZlZpEAaGwkAAAAAAIBLQBEAAAAAAMBYQCGZmZmZmVmkQCABQhAKDmhvdXJzLXBlci13ZWVrGooOEAIi8w0KuAIIwMsBGAEgAS0AAIA/MqQCGhsJAAAAAAAA8D8RAAAAAAAA8D8hmpmZmZlZpEAaGwkAAAAAAADwPxEAAAAAAADwPyGamZmZmVmkQBobCQAAAAAAAPA/EQAAAAAAAPA/IZqZmZmZWaRAGhsJAAAAAAAA8D8RAAAAAAAA8D8hmpmZmZlZpEAaGwkAAAAAAADwPxEAAAAAAADwPyGamZmZmVmkQBobCQAAAAAAAPA/EQAAAAAAAPA/IZqZmZmZWaRAGhsJAAAAAAAA8D8RAAAAAAAA8D8hmpmZmZlZpEAaGwkAAAAAAADwPxEAAAAAAADwPyGamZmZmVmkQBobCQAAAAAAAPA/EQAAAAAAAPA/IZqZmZmZWaRAGhsJAAAAAAAA8D8RAAAAAAAA8D8hmpmZmZlZpEAgAUDAywEQKhoYEg1Vbml0ZWQtU3RhdGVzGQAAAACAztZAGhESBk1leGljbxkAAAAAANB/QBoMEgE/GQAAAAAAIH1AGhYSC1BoaWxpcHBpbmVzGQAAAAAA4GNAGhISB0dlcm1hbnkZAAAAAACAWkAaERIGQ2FuYWRhGQAAAAAAwFlAGhYSC1B1ZXJ0by1SaWNvGQAAAAAAAFlAGhISB0VuZ2xhbmQZAAAAAACAU0AaFhILRWwtU2FsdmFkb3IZAAAAAAAAU0AaDxIEQ3ViYRkAAAAAAIBSQBoQEgVJbmRpYRkAAAAAAMBRQBoQEgVTb3V0aBkAAAAAAMBQQBoQEgVDaGluYRkAAAAAAIBPQBoSEgdKYW1haWNhGQAAAAAAgE5AGhASBUl0YWx5GQAAAAAAgEtAGh0SEkRvbWluaWNhbi1SZXB1YmxpYxkAAAAAAIBLQBoREgZQb2xhbmQZAAAAAACASkAaFBIJR3VhdGVtYWxhGQAAAAAAgEpAGhISB1ZpZXRuYW0ZAAAAAAAASkAaEBIFSmFwYW4ZAAAAAAAASUAlBrpEQSqVCAoYIg1Vbml0ZWQtU3RhdGVzKQAAAACAztZAChUIARABIgZNZXhpY28pAAAAAADQf0AKEAgCEAIiAT8pAAAAAAAgfUAKGggDEAMiC1BoaWxpcHBpbmVzKQAAAAAA4GNAChYIBBAEIgdHZXJtYW55KQAAAAAAgFpAChUIBRAFIgZDYW5hZGEpAAAAAADAWUAKGggGEAYiC1B1ZXJ0by1SaWNvKQAAAAAAAFlAChYIBxAHIgdFbmdsYW5kKQAAAAAAgFNAChoICBAIIgtFbC1TYWx2YWRvcikAAAAAAABTQAoTCAkQCSIEQ3ViYSkAAAAAAIBSQAoUCAoQCiIFSW5kaWEpAAAAAADAUUAKFAgLEAsiBVNvdXRoKQAAAAAAwFBAChQIDBAMIgVDaGluYSkAAAAAAIBPQAoWCA0QDSIHSmFtYWljYSkAAAAAAIBOQAoUCA4QDiIFSXRhbHkpAAAAAACAS0AKIQgPEA8iEkRvbWluaWNhbi1SZXB1YmxpYykAAAAAAIBLQAoVCBAQECIGUG9sYW5kKQAAAAAAgEpAChgIERARIglHdWF0ZW1hbGEpAAAAAACASkAKFggSEBIiB1ZpZXRuYW0pAAAAAAAASkAKFAgTEBMiBUphcGFuKQAAAAAAAElAChcIFBAUIghDb2x1bWJpYSkAAAAAAABHQAoVCBUQFSIGVGFpd2FuKQAAAAAAAEZAChMIFhAWIgRJcmFuKQAAAAAAAENAChQIFxAXIgVIYWl0aSkAAAAAAABDQAoXCBgQGCIIUG9ydHVnYWwpAAAAAAAAPEAKGAgZEBkiCU5pY2FyYWd1YSkAAAAAAAA7QAoTCBoQGiIEUGVydSkAAAAAAAA3QAoVCBsQGyIGR3JlZWNlKQAAAAAAADdAChUIHBAcIgZGcmFuY2UpAAAAAAAAN0AKFggdEB0iB0lyZWxhbmQpAAAAAAAANEAKFggeEB4iB0VjdWFkb3IpAAAAAAAAM0AKFwgfEB8iCFRoYWlsYW5kKQAAAAAAADBAChcIIBAgIghDYW1ib2RpYSkAAAAAAAAwQAoeCCEQISIPVHJpbmFkYWQmVG9iYWdvKQAAAAAAAChAChMIIhAiIgRIb25nKQAAAAAAAChAChkIIxAjIgpZdWdvc2xhdmlhKQAAAAAAACZAChMIJBAkIgRMYW9zKQAAAAAAACRAChYIJRAlIgdIdW5nYXJ5KQAAAAAAACRAChcIJhAmIghTY290bGFuZCkAAAAAAAAiQAoXCCcQJyIISG9uZHVyYXMpAAAAAAAAIkAKKQgoECgiGk91dGx5aW5nLVVTKEd1YW0tVVNWSS1ldGMpKQAAAAAAACBACiEIKRApIhJIb2xhbmQtTmV0aGVybGFuZHMpAAAAAAAA8D9CEAoObmF0aXZlLWNvdW50cnkanAMQAiKOAwq4AgjAywEYASABLQAAgD8ypAIaGwkAAAAAAADwPxEAAAAAAADwPyGamZmZmVmkQBobCQAAAAAAAPA/EQAAAAAAAPA/IZqZmZmZWaRAGhsJAAAAAAAA8D8RAAAAAAAA8D8hmpmZmZlZpEAaGwkAAAAAAADwPxEAAAAAAADwPyGamZmZmVmkQBobCQAAAAAAAPA/EQAAAAAAAPA/IZqZmZmZWaRAGhsJAAAAAAAA8D8RAAAAAAAA8D8hmpmZmZlZpEAaGwkAAAAAAADwPxEAAAAAAADwPyGamZmZmVmkQBobCQAAAAAAAPA/EQAAAAAAAPA/IZqZmZmZWaRAGhsJAAAAAAAA8D8RAAAAAAAA8D8hmpmZmZlZpEAaGwkAAAAAAADwPxEAAAAAAADwPyGamZmZmVmkQCABQMDLARACGhASBTw9NTBLGQAAAADAV9NAGg8SBD41MEsZAAAAAABhuEAlOlWYQConChAiBTw9NTBLKQAAAADAV9NAChMIARABIgQ+NTBLKQAAAAAAYbhAQgcKBWxhYmVs\"></facets-overview>';\n",
              "        facets_iframe.srcdoc = facets_html;\n",
              "         facets_iframe.id = \"\";\n",
              "         setTimeout(() => {\n",
              "           facets_iframe.setAttribute('height', facets_iframe.contentWindow.document.body.offsetHeight + 'px')\n",
              "         }, 1500)\n",
              "         </script>"
            ],
            "text/plain": [
              "<IPython.core.display.HTML object>"
            ]
          },
          "metadata": {}
        }
      ]
    },
    {
      "cell_type": "markdown",
      "metadata": {
        "id": "dhY-OMQUwl3j"
      },
      "source": [
        "## Calculate and display evaluation anomalies\n",
        "You can use your reference schema to check for anomalies such as new values for a specific feature in the evaluation data. Detected anomalies can either be considered a real error that needs to be cleaned, or depending on your domain knowledge and the specific case, they can be accepted."
      ]
    },
    {
      "cell_type": "code",
      "metadata": {
        "id": "Vq7XOdIuxB_4",
        "colab": {
          "base_uri": "https://localhost:8080/",
          "height": 110
        },
        "outputId": "929ba51c-b951-4e99-ef86-2632d1f47965"
      },
      "source": [
        " anomalies = tfdv.validate_statistics(statistics= eval_stats, schema = schema)\n",
        "tfdv.display_anomalies(anomalies)"
      ],
      "execution_count": 27,
      "outputs": [
        {
          "output_type": "stream",
          "name": "stderr",
          "text": [
            "/usr/local/lib/python3.7/dist-packages/tensorflow_data_validation/utils/display_util.py:217: FutureWarning: Passing a negative integer is deprecated in version 1.0 and will not be supported in future version. Instead, use None to not limit the column width.\n",
            "  pd.set_option('max_colwidth', -1)\n"
          ]
        },
        {
          "output_type": "display_data",
          "data": {
            "text/html": [
              "<h4 style=\"color:green;\">No anomalies found.</h4>"
            ],
            "text/plain": [
              "<IPython.core.display.HTML object>"
            ]
          },
          "metadata": {}
        }
      ]
    },
    {
      "cell_type": "markdown",
      "metadata": {
        "id": "E09CZok3IqI1"
      },
      "source": [
        "## Revising the Schema\n",
        "As shown in the results above, TFDV is able to detect the remaining irregularities we introduced earlier. The short and long descriptions tell us what were detected. As expected, there are string values for race, native-country and occupation that are not found in the domain of the training set schema (you might see a different result if the shuffling of the datasets was applied). What you decide to do about the anomalies depend on your domain knowledge of the data. If an anomaly indicates a data error, then the underlying data should be fixed. Otherwise, you can update the schema to include the values in the evaluation dataset.\n",
        "\n",
        "TFDV provides a set of utility methods and parameters that you can use for revising the inferred schema. This reference lists down the type of anomalies and the parameters that you can edit but we'll focus only on a couple here.\n",
        "\n",
        "You can relax the minimum fraction of values that must come from the domain of a particular feature (as described by ENUM_TYPE_UNEXPECTED_STRING_VALUES in the reference):\n",
        "tfdv.get_feature(schema, 'feature_column_name').distribution_constraints.min_domain_mass = <float: 0.0 to 1.0>\n",
        "You can add a new value to the domain of a particular feature:\n",
        "tfdv.get_domain(schema, 'feature_column_name').value.append('string')"
      ]
    },
    {
      "cell_type": "code",
      "metadata": {
        "id": "Zd7iETOVxI4Z"
      },
      "source": [
        "# Relax the minimum fraction of values that must come from the domain for the feature `native-country`\n",
        "country_feature = tfdv.get_feature(schema, 'native-country')\n",
        "country_feature.distribution_constraints.min_domain_mass = 0.9\n",
        "\n",
        "# Relax the minimum fraction of values that must come from the domain for the feature `occupation`\n",
        "occupation_feature = tfdv.get_feature(schema, 'occupation')\n",
        "occupation_feature.distribution_constraints.min_domain_mass = 0.9"
      ],
      "execution_count": 29,
      "outputs": []
    },
    {
      "cell_type": "code",
      "metadata": {
        "id": "1Cgp056qfoND"
      },
      "source": [
        "# Add new value to the domain of the feature `race`\n",
        "race_domain = tfdv.get_domain(schema, 'race')\n",
        "race_domain.value.append('Asian')"
      ],
      "execution_count": 30,
      "outputs": []
    },
    {
      "cell_type": "code",
      "metadata": {
        "id": "9hCFYH8LiDIy",
        "colab": {
          "base_uri": "https://localhost:8080/",
          "height": 1000
        },
        "outputId": "9cc680af-2d3a-4448-b607-4b970acf7de3"
      },
      "source": [
        "# Restrict the range of the `age` feature\n",
        "from tensorflow_metadata.proto.v0 import schema_pb2\n",
        "int_domain = schema_pb2.IntDomain(min=3, max=5)\n",
        "tfdv.set_domain(schema, \"age\", int_domain)\n",
        "\n",
        "# Display the modified schema. Notice the `Domain` column of `age`.\n",
        "tfdv.display_schema(schema)"
      ],
      "execution_count": 31,
      "outputs": [
        {
          "output_type": "display_data",
          "data": {
            "text/html": [
              "<div>\n",
              "<style scoped>\n",
              "    .dataframe tbody tr th:only-of-type {\n",
              "        vertical-align: middle;\n",
              "    }\n",
              "\n",
              "    .dataframe tbody tr th {\n",
              "        vertical-align: top;\n",
              "    }\n",
              "\n",
              "    .dataframe thead th {\n",
              "        text-align: right;\n",
              "    }\n",
              "</style>\n",
              "<table border=\"1\" class=\"dataframe\">\n",
              "  <thead>\n",
              "    <tr style=\"text-align: right;\">\n",
              "      <th></th>\n",
              "      <th>Type</th>\n",
              "      <th>Presence</th>\n",
              "      <th>Valency</th>\n",
              "      <th>Domain</th>\n",
              "    </tr>\n",
              "    <tr>\n",
              "      <th>Feature name</th>\n",
              "      <th></th>\n",
              "      <th></th>\n",
              "      <th></th>\n",
              "      <th></th>\n",
              "    </tr>\n",
              "  </thead>\n",
              "  <tbody>\n",
              "    <tr>\n",
              "      <th>'age'</th>\n",
              "      <td>INT</td>\n",
              "      <td>required</td>\n",
              "      <td></td>\n",
              "      <td>min: 3; max: 5</td>\n",
              "    </tr>\n",
              "    <tr>\n",
              "      <th>'workclass'</th>\n",
              "      <td>STRING</td>\n",
              "      <td>required</td>\n",
              "      <td></td>\n",
              "      <td>'workclass'</td>\n",
              "    </tr>\n",
              "    <tr>\n",
              "      <th>'fnlwgt'</th>\n",
              "      <td>INT</td>\n",
              "      <td>required</td>\n",
              "      <td></td>\n",
              "      <td>-</td>\n",
              "    </tr>\n",
              "    <tr>\n",
              "      <th>'education'</th>\n",
              "      <td>STRING</td>\n",
              "      <td>required</td>\n",
              "      <td></td>\n",
              "      <td>'education'</td>\n",
              "    </tr>\n",
              "    <tr>\n",
              "      <th>'education-num'</th>\n",
              "      <td>INT</td>\n",
              "      <td>required</td>\n",
              "      <td></td>\n",
              "      <td>-</td>\n",
              "    </tr>\n",
              "    <tr>\n",
              "      <th>'marital-status'</th>\n",
              "      <td>STRING</td>\n",
              "      <td>required</td>\n",
              "      <td></td>\n",
              "      <td>'marital-status'</td>\n",
              "    </tr>\n",
              "    <tr>\n",
              "      <th>'occupation'</th>\n",
              "      <td>STRING</td>\n",
              "      <td>required</td>\n",
              "      <td></td>\n",
              "      <td>'occupation'</td>\n",
              "    </tr>\n",
              "    <tr>\n",
              "      <th>'relationship'</th>\n",
              "      <td>STRING</td>\n",
              "      <td>required</td>\n",
              "      <td></td>\n",
              "      <td>'relationship'</td>\n",
              "    </tr>\n",
              "    <tr>\n",
              "      <th>'race'</th>\n",
              "      <td>STRING</td>\n",
              "      <td>required</td>\n",
              "      <td></td>\n",
              "      <td>'race'</td>\n",
              "    </tr>\n",
              "    <tr>\n",
              "      <th>'sex'</th>\n",
              "      <td>STRING</td>\n",
              "      <td>required</td>\n",
              "      <td></td>\n",
              "      <td>'sex'</td>\n",
              "    </tr>\n",
              "    <tr>\n",
              "      <th>'capital-gain'</th>\n",
              "      <td>INT</td>\n",
              "      <td>required</td>\n",
              "      <td></td>\n",
              "      <td>-</td>\n",
              "    </tr>\n",
              "    <tr>\n",
              "      <th>'capital-loss'</th>\n",
              "      <td>INT</td>\n",
              "      <td>required</td>\n",
              "      <td></td>\n",
              "      <td>-</td>\n",
              "    </tr>\n",
              "    <tr>\n",
              "      <th>'hours-per-week'</th>\n",
              "      <td>INT</td>\n",
              "      <td>required</td>\n",
              "      <td></td>\n",
              "      <td>-</td>\n",
              "    </tr>\n",
              "    <tr>\n",
              "      <th>'native-country'</th>\n",
              "      <td>STRING</td>\n",
              "      <td>required</td>\n",
              "      <td></td>\n",
              "      <td>'native-country'</td>\n",
              "    </tr>\n",
              "    <tr>\n",
              "      <th>'label'</th>\n",
              "      <td>STRING</td>\n",
              "      <td>required</td>\n",
              "      <td></td>\n",
              "      <td>'label'</td>\n",
              "    </tr>\n",
              "  </tbody>\n",
              "</table>\n",
              "</div>"
            ],
            "text/plain": [
              "                    Type  Presence Valency            Domain\n",
              "Feature name                                                \n",
              "'age'             INT     required          min: 3; max: 5  \n",
              "'workclass'       STRING  required          'workclass'     \n",
              "'fnlwgt'          INT     required          -               \n",
              "'education'       STRING  required          'education'     \n",
              "'education-num'   INT     required          -               \n",
              "'marital-status'  STRING  required          'marital-status'\n",
              "'occupation'      STRING  required          'occupation'    \n",
              "'relationship'    STRING  required          'relationship'  \n",
              "'race'            STRING  required          'race'          \n",
              "'sex'             STRING  required          'sex'           \n",
              "'capital-gain'    INT     required          -               \n",
              "'capital-loss'    INT     required          -               \n",
              "'hours-per-week'  INT     required          -               \n",
              "'native-country'  STRING  required          'native-country'\n",
              "'label'           STRING  required          'label'         "
            ]
          },
          "metadata": {}
        },
        {
          "output_type": "stream",
          "name": "stderr",
          "text": [
            "/usr/local/lib/python3.7/dist-packages/tensorflow_data_validation/utils/display_util.py:180: FutureWarning: Passing a negative integer is deprecated in version 1.0 and will not be supported in future version. Instead, use None to not limit the column width.\n",
            "  pd.set_option('max_colwidth', -1)\n"
          ]
        },
        {
          "output_type": "display_data",
          "data": {
            "text/html": [
              "<div>\n",
              "<style scoped>\n",
              "    .dataframe tbody tr th:only-of-type {\n",
              "        vertical-align: middle;\n",
              "    }\n",
              "\n",
              "    .dataframe tbody tr th {\n",
              "        vertical-align: top;\n",
              "    }\n",
              "\n",
              "    .dataframe thead th {\n",
              "        text-align: right;\n",
              "    }\n",
              "</style>\n",
              "<table border=\"1\" class=\"dataframe\">\n",
              "  <thead>\n",
              "    <tr style=\"text-align: right;\">\n",
              "      <th></th>\n",
              "      <th>Values</th>\n",
              "    </tr>\n",
              "    <tr>\n",
              "      <th>Domain</th>\n",
              "      <th></th>\n",
              "    </tr>\n",
              "  </thead>\n",
              "  <tbody>\n",
              "    <tr>\n",
              "      <th>'workclass'</th>\n",
              "      <td>'?', 'Federal-gov', 'Local-gov', 'Never-worked', 'Private', 'Self-emp-inc', 'Self-emp-not-inc', 'State-gov', 'Without-pay'</td>\n",
              "    </tr>\n",
              "    <tr>\n",
              "      <th>'education'</th>\n",
              "      <td>'10th', '11th', '12th', '1st-4th', '5th-6th', '7th-8th', '9th', 'Assoc-acdm', 'Assoc-voc', 'Bachelors', 'Doctorate', 'HS-grad', 'Masters', 'Preschool', 'Prof-school', 'Some-college'</td>\n",
              "    </tr>\n",
              "    <tr>\n",
              "      <th>'marital-status'</th>\n",
              "      <td>'Divorced', 'Married-AF-spouse', 'Married-civ-spouse', 'Married-spouse-absent', 'Never-married', 'Separated', 'Widowed'</td>\n",
              "    </tr>\n",
              "    <tr>\n",
              "      <th>'occupation'</th>\n",
              "      <td>'?', 'Adm-clerical', 'Armed-Forces', 'Craft-repair', 'Exec-managerial', 'Farming-fishing', 'Handlers-cleaners', 'Machine-op-inspct', 'Other-service', 'Priv-house-serv', 'Prof-specialty', 'Protective-serv', 'Sales', 'Tech-support', 'Transport-moving'</td>\n",
              "    </tr>\n",
              "    <tr>\n",
              "      <th>'relationship'</th>\n",
              "      <td>'Husband', 'Not-in-family', 'Other-relative', 'Own-child', 'Unmarried', 'Wife'</td>\n",
              "    </tr>\n",
              "    <tr>\n",
              "      <th>'race'</th>\n",
              "      <td>'Amer-Indian-Eskimo', 'Asian-Pac-Islander', 'Black', 'Other', 'White', 'Asian'</td>\n",
              "    </tr>\n",
              "    <tr>\n",
              "      <th>'sex'</th>\n",
              "      <td>'Female', 'Male'</td>\n",
              "    </tr>\n",
              "    <tr>\n",
              "      <th>'native-country'</th>\n",
              "      <td>'?', 'Cambodia', 'Canada', 'China', 'Columbia', 'Cuba', 'Dominican-Republic', 'Ecuador', 'El-Salvador', 'England', 'France', 'Germany', 'Greece', 'Guatemala', 'Haiti', 'Holand-Netherlands', 'Honduras', 'Hong', 'Hungary', 'India', 'Iran', 'Ireland', 'Italy', 'Jamaica', 'Japan', 'Laos', 'Mexico', 'Nicaragua', 'Outlying-US(Guam-USVI-etc)', 'Peru', 'Philippines', 'Poland', 'Portugal', 'Puerto-Rico', 'Scotland', 'South', 'Taiwan', 'Thailand', 'Trinadad&amp;Tobago', 'United-States', 'Vietnam', 'Yugoslavia'</td>\n",
              "    </tr>\n",
              "    <tr>\n",
              "      <th>'label'</th>\n",
              "      <td>'&lt;=50K', '&gt;50K'</td>\n",
              "    </tr>\n",
              "  </tbody>\n",
              "</table>\n",
              "</div>"
            ],
            "text/plain": [
              "                                                                                                                                                                                                                                                                                                                                                                                                                                                                                                                                 Values\n",
              "Domain                                                                                                                                                                                                                                                                                                                                                                                                                                                                                                                                 \n",
              "'workclass'       '?', 'Federal-gov', 'Local-gov', 'Never-worked', 'Private', 'Self-emp-inc', 'Self-emp-not-inc', 'State-gov', 'Without-pay'                                                                                                                                                                                                                                                                                                                                                                                           \n",
              "'education'       '10th', '11th', '12th', '1st-4th', '5th-6th', '7th-8th', '9th', 'Assoc-acdm', 'Assoc-voc', 'Bachelors', 'Doctorate', 'HS-grad', 'Masters', 'Preschool', 'Prof-school', 'Some-college'                                                                                                                                                                                                                                                                                                                                \n",
              "'marital-status'  'Divorced', 'Married-AF-spouse', 'Married-civ-spouse', 'Married-spouse-absent', 'Never-married', 'Separated', 'Widowed'                                                                                                                                                                                                                                                                                                                                                                                              \n",
              "'occupation'      '?', 'Adm-clerical', 'Armed-Forces', 'Craft-repair', 'Exec-managerial', 'Farming-fishing', 'Handlers-cleaners', 'Machine-op-inspct', 'Other-service', 'Priv-house-serv', 'Prof-specialty', 'Protective-serv', 'Sales', 'Tech-support', 'Transport-moving'                                                                                                                                                                                                                                                            \n",
              "'relationship'    'Husband', 'Not-in-family', 'Other-relative', 'Own-child', 'Unmarried', 'Wife'                                                                                                                                                                                                                                                                                                                                                                                                                                       \n",
              "'race'            'Amer-Indian-Eskimo', 'Asian-Pac-Islander', 'Black', 'Other', 'White', 'Asian'                                                                                                                                                                                                                                                                                                                                                                                                                                       \n",
              "'sex'             'Female', 'Male'                                                                                                                                                                                                                                                                                                                                                                                                                                                                                                     \n",
              "'native-country'  '?', 'Cambodia', 'Canada', 'China', 'Columbia', 'Cuba', 'Dominican-Republic', 'Ecuador', 'El-Salvador', 'England', 'France', 'Germany', 'Greece', 'Guatemala', 'Haiti', 'Holand-Netherlands', 'Honduras', 'Hong', 'Hungary', 'India', 'Iran', 'Ireland', 'Italy', 'Jamaica', 'Japan', 'Laos', 'Mexico', 'Nicaragua', 'Outlying-US(Guam-USVI-etc)', 'Peru', 'Philippines', 'Poland', 'Portugal', 'Puerto-Rico', 'Scotland', 'South', 'Taiwan', 'Thailand', 'Trinadad&Tobago', 'United-States', 'Vietnam', 'Yugoslavia'\n",
              "'label'           '<=50K', '>50K'                                                                                                                                                                                                                                                                                                                                                                                                                                                                                                      "
            ]
          },
          "metadata": {}
        }
      ]
    },
    {
      "cell_type": "code",
      "metadata": {
        "id": "cMDZLvytiuXj",
        "colab": {
          "base_uri": "https://localhost:8080/",
          "height": 164
        },
        "outputId": "4bec581b-83b1-4172-bbe7-6005e8f3de83"
      },
      "source": [
        "# Validate eval stats after updating the schema \n",
        "updated_anomalies = tfdv.validate_statistics(eval_stats, schema)\n",
        "tfdv.display_anomalies(updated_anomalies)"
      ],
      "execution_count": 32,
      "outputs": [
        {
          "output_type": "stream",
          "name": "stderr",
          "text": [
            "/usr/local/lib/python3.7/dist-packages/tensorflow_data_validation/utils/display_util.py:217: FutureWarning: Passing a negative integer is deprecated in version 1.0 and will not be supported in future version. Instead, use None to not limit the column width.\n",
            "  pd.set_option('max_colwidth', -1)\n"
          ]
        },
        {
          "output_type": "display_data",
          "data": {
            "text/html": [
              "<div>\n",
              "<style scoped>\n",
              "    .dataframe tbody tr th:only-of-type {\n",
              "        vertical-align: middle;\n",
              "    }\n",
              "\n",
              "    .dataframe tbody tr th {\n",
              "        vertical-align: top;\n",
              "    }\n",
              "\n",
              "    .dataframe thead th {\n",
              "        text-align: right;\n",
              "    }\n",
              "</style>\n",
              "<table border=\"1\" class=\"dataframe\">\n",
              "  <thead>\n",
              "    <tr style=\"text-align: right;\">\n",
              "      <th></th>\n",
              "      <th>Anomaly short description</th>\n",
              "      <th>Anomaly long description</th>\n",
              "    </tr>\n",
              "    <tr>\n",
              "      <th>Feature name</th>\n",
              "      <th></th>\n",
              "      <th></th>\n",
              "    </tr>\n",
              "  </thead>\n",
              "  <tbody>\n",
              "    <tr>\n",
              "      <th>'age'</th>\n",
              "      <td>Out-of-range values</td>\n",
              "      <td>Unexpectedly large value: 90.</td>\n",
              "    </tr>\n",
              "  </tbody>\n",
              "</table>\n",
              "</div>"
            ],
            "text/plain": [
              "             Anomaly short description       Anomaly long description\n",
              "Feature name                                                         \n",
              "'age'         Out-of-range values       Unexpectedly large value: 90."
            ]
          },
          "metadata": {}
        }
      ]
    },
    {
      "cell_type": "markdown",
      "metadata": {
        "id": "xLcLHm7TM9lR"
      },
      "source": [
        "## Examining dataset slices\n",
        "TFDV also allows you to analyze specific slices of your dataset. This is particularly useful if you want to inspect if a feature type is well-represented in your dataset."
      ]
    },
    {
      "cell_type": "markdown",
      "metadata": {
        "id": "NM1oAjyCNkl9"
      },
      "source": [
        "**First, you will use the get_feature_value_slicer method from the slicing_util to get the features you want to examine. You can specify that by passing a dictionary to the features argument. If you want to get the entire domain of a feature, then you can map the feature name with None as shown below. This means that you will get slices for both Male and Female entries. This returns a function that can be used to extract the said feature slice.**"
      ]
    },
    {
      "cell_type": "code",
      "metadata": {
        "id": "C-GTS9KvoF2h"
      },
      "source": [
        "from tensorflow_data_validation.utils import slicing_util\n",
        "\n",
        "slice_fn = slicing_util.get_feature_value_slicer(features={'sex': None})"
      ],
      "execution_count": 33,
      "outputs": []
    },
    {
      "cell_type": "markdown",
      "metadata": {
        "id": "eSPJVev9O5lm"
      },
      "source": [
        "***With the slice function ready, you can now generate the statistics. You need to tell TFDV that you need statistics for the features you set and you can do that through the slice_functions argument of tfdv.StatsOptions. Let's prepare that in the cell below. Notice that you also need to pass in the schema.***"
      ]
    },
    {
      "cell_type": "code",
      "metadata": {
        "id": "eIaMT2dEoN7Z"
      },
      "source": [
        "# Declare stats options\n",
        "slice_stats_options = tfdv.StatsOptions(schema=schema,\n",
        "                                        slice_functions=[slice_fn],\n",
        "                                        infer_type_from_schema=True)"
      ],
      "execution_count": 36,
      "outputs": []
    },
    {
      "cell_type": "markdown",
      "metadata": {
        "id": "Rjs4wJrJTHKh"
      },
      "source": [
        "You will then pass these options to the generate_statistics_from_csv() method. As of writing, generating sliced statistics only works for CSVs so you will need to convert the Pandas dataframe to a CSV. Passing the slice_stats_options to generate_statistics_from_dataframe() will not produce the expected results."
      ]
    },
    {
      "cell_type": "code",
      "metadata": {
        "id": "cbjTRHSOojw4",
        "colab": {
          "base_uri": "https://localhost:8080/",
          "height": 222
        },
        "outputId": "6f22c02e-cf47-45f5-847e-9cdbb9d9d873"
      },
      "source": [
        "# Convert dataframe to CSV since `slice_functions` works only with `tfdv.generate_statistics_from_csv`\n",
        "CSV_PATH = 'slice_sample.csv'\n",
        "train_df.to_csv(CSV_PATH)\n",
        "\n",
        "# Calculate statistics for the sliced dataset\n",
        "sliced_stats = tfdv.generate_statistics_from_csv(CSV_PATH, stats_options=slice_stats_options)"
      ],
      "execution_count": 37,
      "outputs": [
        {
          "output_type": "stream",
          "name": "stderr",
          "text": [
            "WARNING:apache_beam.runners.interactive.interactive_environment:Dependencies required for Interactive Beam PCollection visualization are not available, please use: `pip install apache-beam[interactive]` to install necessary dependencies to enable all data visualization features.\n"
          ]
        },
        {
          "output_type": "display_data",
          "data": {
            "application/javascript": [
              "\n",
              "        if (typeof window.interactive_beam_jquery == 'undefined') {\n",
              "          var jqueryScript = document.createElement('script');\n",
              "          jqueryScript.src = 'https://code.jquery.com/jquery-3.4.1.slim.min.js';\n",
              "          jqueryScript.type = 'text/javascript';\n",
              "          jqueryScript.onload = function() {\n",
              "            var datatableScript = document.createElement('script');\n",
              "            datatableScript.src = 'https://cdn.datatables.net/1.10.20/js/jquery.dataTables.min.js';\n",
              "            datatableScript.type = 'text/javascript';\n",
              "            datatableScript.onload = function() {\n",
              "              window.interactive_beam_jquery = jQuery.noConflict(true);\n",
              "              window.interactive_beam_jquery(document).ready(function($){\n",
              "                \n",
              "              });\n",
              "            }\n",
              "            document.head.appendChild(datatableScript);\n",
              "          };\n",
              "          document.head.appendChild(jqueryScript);\n",
              "        } else {\n",
              "          window.interactive_beam_jquery(document).ready(function($){\n",
              "            \n",
              "          });\n",
              "        }"
            ]
          },
          "metadata": {}
        },
        {
          "output_type": "stream",
          "name": "stderr",
          "text": [
            "WARNING:root:Make sure that locally built Python SDK docker image has Python 3.7 interpreter.\n",
            "WARNING:apache_beam.io.tfrecordio:Couldn't find python-snappy so the implementation of _TFRecordUtil._masked_crc32c is not as fast as it could be.\n"
          ]
        },
        {
          "output_type": "stream",
          "name": "stdout",
          "text": [
            "WARNING:tensorflow:From /usr/local/lib/python3.7/dist-packages/tensorflow_data_validation/utils/stats_util.py:247: tf_record_iterator (from tensorflow.python.lib.io.tf_record) is deprecated and will be removed in a future version.\n",
            "Instructions for updating:\n",
            "Use eager execution and: \n",
            "`tf.data.TFRecordDataset(path)`\n"
          ]
        },
        {
          "output_type": "stream",
          "name": "stderr",
          "text": [
            "WARNING:tensorflow:From /usr/local/lib/python3.7/dist-packages/tensorflow_data_validation/utils/stats_util.py:247: tf_record_iterator (from tensorflow.python.lib.io.tf_record) is deprecated and will be removed in a future version.\n",
            "Instructions for updating:\n",
            "Use eager execution and: \n",
            "`tf.data.TFRecordDataset(path)`\n"
          ]
        }
      ]
    },
    {
      "cell_type": "markdown",
      "metadata": {
        "id": "glWCTgxaT608"
      },
      "source": [
        "***With that, you now have the statistics for the set slice. These are packed into a DatasetFeatureStatisticsList protocol buffer. You can see the dataset names below. The first element in the list (i.e. index=0) is named All_Examples which just contains the statistics for the entire dataset. The next two elements (i.e. named sex_Male and sex_Female) are the datasets that contain the stats for the slices. It is important to note that these datasets are of the type: DatasetFeatureStatistics. You will see why this is important after the cell below.***"
      ]
    },
    {
      "cell_type": "code",
      "metadata": {
        "colab": {
          "base_uri": "https://localhost:8080/"
        },
        "id": "Z8XVj8s3T5iI",
        "outputId": "3b6b3a85-8cbd-4c5f-cf2a-642c886443dc"
      },
      "source": [
        "print(f'Dataset Generated:{[sliced.name for sliced in sliced_stats.datasets]}')\n",
        "print(f'Type of sliced_stats_element: {type(sliced_stats.datasets[0])}')"
      ],
      "execution_count": 41,
      "outputs": [
        {
          "output_type": "stream",
          "name": "stdout",
          "text": [
            "Dataset Generated:['All Examples', 'sex_Male', 'sex_Female']\n",
            "Type of sliced_stats_element: <class 'tensorflow_metadata.proto.v0.statistics_pb2.DatasetFeatureStatistics'>\n"
          ]
        }
      ]
    },
    {
      "cell_type": "markdown",
      "metadata": {
        "id": "3-CjuVVbWNVw"
      },
      "source": [
        "**You can then visualize the statistics as before to examine the slices. An important caveat is visualize_statistics() accepts a DatasetFeatureStatisticsList type instead of DatasetFeatureStatistics. Thus, at least for this version of TFDV, you will need to convert it to the correct type.**"
      ]
    },
    {
      "cell_type": "code",
      "metadata": {
        "colab": {
          "base_uri": "https://localhost:8080/",
          "height": 1000
        },
        "id": "H03Tsah-VWAC",
        "outputId": "3f1b2a17-0795-449f-a3a8-babc878979db"
      },
      "source": [
        "from tensorflow_metadata.proto.v0.statistics_pb2 import DatasetFeatureStatisticsList\n",
        "\n",
        "# Convert `Male` statistics (index=1) to the correct type and get the dataset name\n",
        "male_stats_list = DatasetFeatureStatisticsList()\n",
        "male_stats_list.datasets.extend([sliced_stats.datasets[1]])\n",
        "male_stats_name= sliced_stats.datasets[1].name\n",
        "\n",
        "# Convert `Female` statistics (index=2) to the correct type and get the dataset name\n",
        "female_stats_list = DatasetFeatureStatisticsList()\n",
        "female_stats_list.datasets.extend([sliced_stats.datasets[2]])\n",
        "female_stats_name = sliced_stats.datasets[2].name\n",
        "\n",
        "# Visualize the two slices side by side\n",
        "tfdv.visualize_statistics(\n",
        "    lhs_statistics=male_stats_list,\n",
        "    rhs_statistics=female_stats_list,\n",
        "    lhs_name=male_stats_name,\n",
        "    rhs_name=female_stats_name\n",
        ")"
      ],
      "execution_count": 42,
      "outputs": [
        {
          "output_type": "display_data",
          "data": {
            "text/html": [
              "<iframe id='facets-iframe' width=\"100%\" height=\"500px\"></iframe>\n",
              "        <script>\n",
              "        facets_iframe = document.getElementById('facets-iframe');\n",
              "        facets_html = '<script src=\"https://cdnjs.cloudflare.com/ajax/libs/webcomponentsjs/1.3.3/webcomponents-lite.js\"><\\/script><link rel=\"import\" href=\"https://raw.githubusercontent.com/PAIR-code/facets/master/facets-dist/facets-jupyter.html\"><facets-overview proto-input=\"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\"></facets-overview>';\n",
              "        facets_iframe.srcdoc = facets_html;\n",
              "         facets_iframe.id = \"\";\n",
              "         setTimeout(() => {\n",
              "           facets_iframe.setAttribute('height', facets_iframe.contentWindow.document.body.offsetHeight + 'px')\n",
              "         }, 1500)\n",
              "         </script>"
            ],
            "text/plain": [
              "<IPython.core.display.HTML object>"
            ]
          },
          "metadata": {}
        }
      ]
    },
    {
      "cell_type": "markdown",
      "metadata": {
        "id": "eBqsLv8pY3un"
      },
      "source": [
        "You should now see the visualization of the two slices and you can compare how they are represented in the dataset.\n",
        "\n",
        "We encourage you to go back to the beginning of this section and try different slices. Here are other ways you can explore:\n",
        "\n",
        "If you want to be more specific, then you can map the specific value to the feature name. For example, if you want just Male, then you can declare it as features={'sex': [b'Male']}. Notice that the string literal needs to be passed in as bytes with the b' prefix.\n",
        "\n",
        "You can also pass in several features if you want. For example, if you want to slice through both the sex and race features, then you can do features={'sex': None, 'race': None}.\n",
        "\n",
        "You might find it cumbersome or inefficient to redo the whole process for a particular slice. For that, you can make helper functions to streamline the type conversions and you will see one implementation in this week's assignment. **bold text** **bold text** *italicized text* **bold text**"
      ]
    },
    {
      "cell_type": "markdown",
      "metadata": {
        "id": "a6Fqc2EsZGXy"
      },
      "source": [
        "### **Wrap up**\n",
        "This exercise demonstrated how you would use Tensorflow Data Validation in a machine learning project.\n",
        "\n",
        "It allows you to scale the computation of statistics over datasets.\n",
        "\n",
        "You can infer the schema of a given dataset and revise it based on your domain knowledge.\n",
        "\n",
        "You can inspect discrepancies between the training and e"
      ]
    },
    {
      "cell_type": "code",
      "metadata": {
        "id": "dixMV4oJYkwi"
      },
      "source": [
        ""
      ],
      "execution_count": null,
      "outputs": []
    }
  ]
}